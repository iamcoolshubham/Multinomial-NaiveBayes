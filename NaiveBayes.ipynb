{
  "nbformat": 4,
  "nbformat_minor": 0,
  "metadata": {
    "colab": {
      "name": "NaiveBayes.ipynb",
      "provenance": [],
      "machine_shape": "hm",
      "authorship_tag": "ABX9TyM1YkwS19DGJOXZ/eP8dVYX",
      "include_colab_link": true
    },
    "kernelspec": {
      "name": "python3",
      "display_name": "Python 3"
    }
  },
  "cells": [
    {
      "cell_type": "markdown",
      "metadata": {
        "id": "view-in-github",
        "colab_type": "text"
      },
      "source": [
        "<a href=\"https://colab.research.google.com/github/iamcoolshubham/Multinomial-NaiveBayes/blob/master/NaiveBayes.ipynb\" target=\"_parent\"><img src=\"https://colab.research.google.com/assets/colab-badge.svg\" alt=\"Open In Colab\"/></a>"
      ]
    },
    {
      "cell_type": "code",
      "metadata": {
        "id": "XEMciGWaLs9E",
        "colab_type": "code",
        "outputId": "7a97c092-5322-4019-d6bf-7ce056b1aa92",
        "colab": {
          "resources": {
            "http://localhost:8080/nbextensions/google.colab/files.js": {
              "data": "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",
              "ok": true,
              "headers": [
                [
                  "content-type",
                  "application/javascript"
                ]
              ],
              "status": 200,
              "status_text": ""
            }
          },
          "base_uri": "https://localhost:8080/",
          "height": 74
        }
      },
      "source": [
        "from google.colab import files\n",
        "uploaded = files.upload()"
      ],
      "execution_count": 1,
      "outputs": [
        {
          "output_type": "display_data",
          "data": {
            "text/html": [
              "\n",
              "     <input type=\"file\" id=\"files-f7a391b1-09f2-4e28-8e36-11262445f570\" name=\"files[]\" multiple disabled />\n",
              "     <output id=\"result-f7a391b1-09f2-4e28-8e36-11262445f570\">\n",
              "      Upload widget is only available when the cell has been executed in the\n",
              "      current browser session. Please rerun this cell to enable.\n",
              "      </output>\n",
              "      <script src=\"/nbextensions/google.colab/files.js\"></script> "
            ],
            "text/plain": [
              "<IPython.core.display.HTML object>"
            ]
          },
          "metadata": {
            "tags": []
          }
        },
        {
          "output_type": "stream",
          "text": [
            "Saving preprocessed_data.csv to preprocessed_data.csv\n"
          ],
          "name": "stdout"
        }
      ]
    },
    {
      "cell_type": "code",
      "metadata": {
        "id": "aFHTiZ6XOrgj",
        "colab_type": "code",
        "colab": {
          "base_uri": "https://localhost:8080/",
          "height": 71
        },
        "outputId": "8cc8822f-3e7b-421b-b399-d79ba76ebb8a"
      },
      "source": [
        "import pandas as pd\n",
        "import numpy as np\n",
        "import matplotlib.pyplot as plt\n",
        "import seaborn as sns\n",
        "import nltk\n",
        "import tqdm\n",
        "from nltk.stem import PorterStemmer\n",
        "from nltk.corpus import stopwords\n",
        "from nltk.tokenize import word_tokenize\n",
        "from sklearn.model_selection import train_test_split\n",
        "from sklearn.feature_extraction.text import CountVectorizer"
      ],
      "execution_count": 2,
      "outputs": [
        {
          "output_type": "stream",
          "text": [
            "/usr/local/lib/python3.6/dist-packages/statsmodels/tools/_testing.py:19: FutureWarning: pandas.util.testing is deprecated. Use the functions in the public API at pandas.testing instead.\n",
            "  import pandas.util.testing as tm\n"
          ],
          "name": "stderr"
        }
      ]
    },
    {
      "cell_type": "code",
      "metadata": {
        "id": "DdFjuDgJQmIz",
        "colab_type": "code",
        "colab": {}
      },
      "source": [
        "\n",
        "data = pd.read_csv('preprocessed_data.csv')\n",
        "y=data.project_is_approved\n",
        "data.drop(columns={\"project_is_approved\"},axis=0,inplace=True)\n",
        "X_train,X_test,y_train,y_test=train_test_split(data,y,test_size=0.2,stratify=y)\n",
        "X_train,X_cv,y_train,y_cv=train_test_split(X_train,y_train,test_size=0.2,stratify=y_train)"
      ],
      "execution_count": 0,
      "outputs": []
    },
    {
      "cell_type": "code",
      "metadata": {
        "id": "WSxQxWQqkH1R",
        "colab_type": "code",
        "colab": {
          "base_uri": "https://localhost:8080/",
          "height": 68
        },
        "outputId": "0cfa3f33-315a-4e38-a11e-432a87165693"
      },
      "source": [
        "print(\"No of datapoints in train:\",len(X_train),\" \",len(X_train)/len((data)))\n",
        "print(\"No of datapoints in test:\",len(X_test),\" \",len(X_test)/len((data)))\n",
        "print(\"No of datapoints in cv:\",len(X_cv),\" \",len(X_cv)/len((data)))"
      ],
      "execution_count": 153,
      "outputs": [
        {
          "output_type": "stream",
          "text": [
            "No of datapoints in train: 69918   0.6399934094903339\n",
            "No of datapoints in test: 21850   0.20000366139425893\n",
            "No of datapoints in cv: 17480   0.16000292911540714\n"
          ],
          "name": "stdout"
        }
      ]
    },
    {
      "cell_type": "markdown",
      "metadata": {
        "id": "pD7CWXLkkx5Q",
        "colab_type": "text"
      },
      "source": [
        "### <h2>1.3 Make Data Model Ready: encoding eassay, and project_title</h2>**bold text**"
      ]
    },
    {
      "cell_type": "code",
      "metadata": {
        "id": "tsAeqvXlkIJF",
        "colab_type": "code",
        "colab": {
          "base_uri": "https://localhost:8080/",
          "height": 51
        },
        "outputId": "5fa386d7-e9c6-4184-874a-f5e0ec7935c0"
      },
      "source": [
        "import nltk\n",
        "nltk.download('punkt')\n",
        "essay=data.essay\n",
        "temp=list()\n",
        "for i in essay:\n",
        "    temp.extend(word_tokenize(i))\n",
        "temp=pd.Series(temp)\n",
        "from collections import Counter\n",
        "counter=Counter(temp)\n",
        "counter=counter.most_common(10300)\n"
      ],
      "execution_count": 154,
      "outputs": [
        {
          "output_type": "stream",
          "text": [
            "[nltk_data] Downloading package punkt to /root/nltk_data...\n",
            "[nltk_data]   Package punkt is already up-to-date!\n"
          ],
          "name": "stdout"
        }
      ]
    },
    {
      "cell_type": "code",
      "metadata": {
        "id": "l45pKNdKkIMN",
        "colab_type": "code",
        "colab": {
          "base_uri": "https://localhost:8080/",
          "height": 68
        },
        "outputId": "74e94356-d551-4cd6-fcce-7e501d7836a9"
      },
      "source": [
        "nltk.download('stopwords')\n",
        "temp=list()\n",
        "for i in range(len(counter)):\n",
        "    temp.append(counter[i][0])\n",
        "temp\n",
        "print(len(temp))\n",
        "temp=set(temp)\n",
        "temp=list(temp)\n",
        "stop_words=set(stopwords.words(\"english\"))\n",
        "for i in temp:\n",
        "    if i in stop_words:\n",
        "        temp.remove(i)"
      ],
      "execution_count": 155,
      "outputs": [
        {
          "output_type": "stream",
          "text": [
            "[nltk_data] Downloading package stopwords to /root/nltk_data...\n",
            "[nltk_data]   Package stopwords is already up-to-date!\n",
            "10300\n"
          ],
          "name": "stdout"
        }
      ]
    },
    {
      "cell_type": "code",
      "metadata": {
        "id": "fv66Y3PR5YXd",
        "colab_type": "code",
        "colab": {
          "base_uri": "https://localhost:8080/",
          "height": 34
        },
        "outputId": "4829f1cb-4f6b-4670-fc45-446e38de3348"
      },
      "source": [
        "len(temp)"
      ],
      "execution_count": 156,
      "outputs": [
        {
          "output_type": "execute_result",
          "data": {
            "text/plain": [
              "10187"
            ]
          },
          "metadata": {
            "tags": []
          },
          "execution_count": 156
        }
      ]
    },
    {
      "cell_type": "code",
      "metadata": {
        "id": "rULuTr-F8q-R",
        "colab_type": "code",
        "colab": {
          "base_uri": "https://localhost:8080/",
          "height": 34
        },
        "outputId": "2aab1ebc-f604-48d8-ffde-f7f8f5b2b9f4"
      },
      "source": [
        "X_cv.shape"
      ],
      "execution_count": 157,
      "outputs": [
        {
          "output_type": "execute_result",
          "data": {
            "text/plain": [
              "(17480, 8)"
            ]
          },
          "metadata": {
            "tags": []
          },
          "execution_count": 157
        }
      ]
    },
    {
      "cell_type": "code",
      "metadata": {
        "id": "3agsxBm-kIPM",
        "colab_type": "code",
        "colab": {}
      },
      "source": [
        "vectorizer=CountVectorizer()\n",
        "vectorizer.fit(temp)\n",
        "essay_train_bow=vectorizer.transform(X_train[\"essay\"].values)\n",
        "essay_test_bow=vectorizer.transform(X_test['essay'].values)\n",
        "essay_cv_bow=vectorizer.transform(X_cv[\"essay\"].values)\n"
      ],
      "execution_count": 0,
      "outputs": []
    },
    {
      "cell_type": "code",
      "metadata": {
        "id": "dOv2VQDMkIR7",
        "colab_type": "code",
        "colab": {
          "base_uri": "https://localhost:8080/",
          "height": 68
        },
        "outputId": "bc8e59da-b701-4619-f890-520c13de2474"
      },
      "source": [
        "print(essay_train_bow.shape)\n",
        "print(essay_test_bow.shape)\n",
        "print(essay_cv_bow.shape)\n"
      ],
      "execution_count": 159,
      "outputs": [
        {
          "output_type": "stream",
          "text": [
            "(69918, 10159)\n",
            "(21850, 10159)\n",
            "(17480, 10159)\n"
          ],
          "name": "stdout"
        }
      ]
    },
    {
      "cell_type": "markdown",
      "metadata": {
        "id": "1RTtBXPXmfHl",
        "colab_type": "text"
      },
      "source": [
        "<h2>1.4 Make Data Model Ready: encoding numerical, categorical features</h2>"
      ]
    },
    {
      "cell_type": "code",
      "metadata": {
        "id": "7a0HecgNkIXv",
        "colab_type": "code",
        "colab": {}
      },
      "source": [
        "school_state=data.school_state\n",
        "vectorizer.fit(X_train['school_state'])\n",
        "train_school_bow=vectorizer.transform(X_train['school_state'])\n",
        "test_school_bow=vectorizer.transform(X_test['school_state'])\n",
        "cv_school_bow=vectorizer.transform(X_cv['school_state'])"
      ],
      "execution_count": 0,
      "outputs": []
    },
    {
      "cell_type": "code",
      "metadata": {
        "id": "3tz1rhNrkIVu",
        "colab_type": "code",
        "colab": {}
      },
      "source": [
        "teacher_prefix=data.teacher_prefix\n",
        "vectorizer.fit(X_train['teacher_prefix'])\n",
        "train_teacher_bow=vectorizer.transform(X_train['teacher_prefix'])\n",
        "test_teacher_bow=vectorizer.transform(X_test['teacher_prefix'])\n",
        "cv_teacher_bow=vectorizer.transform(X_cv['teacher_prefix'])"
      ],
      "execution_count": 0,
      "outputs": []
    },
    {
      "cell_type": "code",
      "metadata": {
        "id": "i7wWjhwFmoAV",
        "colab_type": "code",
        "colab": {}
      },
      "source": [
        "project_grade_category=data.project_grade_category\n",
        "vectorizer.fit(X_train['project_grade_category'])\n",
        "train_project_grade_category_bow=vectorizer.transform(X_train['project_grade_category'])\n",
        "test_project_grade_category_bow=vectorizer.transform(X_test['project_grade_category'])\n",
        "cv_project_grade_category_bow=vectorizer.transform(X_cv['project_grade_category'])"
      ],
      "execution_count": 0,
      "outputs": []
    },
    {
      "cell_type": "code",
      "metadata": {
        "id": "cfcLC4UemoDg",
        "colab_type": "code",
        "colab": {}
      },
      "source": [
        "clean_categories=data.clean_categories\n",
        "vectorizer.fit(X_train['clean_categories'])\n",
        "train_clean_categories_bow=vectorizer.transform(X_train['clean_categories'])\n",
        "test_clean_categories_bow=vectorizer.transform(X_test['clean_categories'])\n",
        "cv_clean_categories_bow=vectorizer.transform(X_cv['clean_categories'])\n"
      ],
      "execution_count": 0,
      "outputs": []
    },
    {
      "cell_type": "code",
      "metadata": {
        "id": "PTGusH4tmoNf",
        "colab_type": "code",
        "colab": {}
      },
      "source": [
        "clean_sub_categories=data.clean_subcategories\n",
        "vectorizer.fit(X_train['clean_subcategories'])\n",
        "train_clean_sub_categories_bow=vectorizer.transform(X_train['clean_subcategories'])\n",
        "test_clean_sub_categories_bow=vectorizer.transform(X_test['clean_subcategories'])\n",
        "cv_clean_sub_categories_bow=vectorizer.transform(X_cv['clean_subcategories'])\n"
      ],
      "execution_count": 0,
      "outputs": []
    },
    {
      "cell_type": "code",
      "metadata": {
        "id": "touz5Sy_moSn",
        "colab_type": "code",
        "colab": {}
      },
      "source": [
        "from sklearn.preprocessing import Normalizer\n",
        "normalizer=Normalizer()\n",
        "normalizer.fit(X_train['price'].values.reshape(1,-1))\n",
        "X_train_price_norm = normalizer.transform(X_train['price'].values.reshape(1,-1))\n",
        "X_cv_price_norm = normalizer.transform(X_cv['price'].values.reshape(1,-1))\n",
        "X_test_price_norm = normalizer.transform(X_test['price'].values.reshape(1,-1))\n"
      ],
      "execution_count": 0,
      "outputs": []
    },
    {
      "cell_type": "code",
      "metadata": {
        "id": "1tcDpd71moYI",
        "colab_type": "code",
        "colab": {}
      },
      "source": [
        "previously_posted_projects=data.teacher_number_of_previously_posted_projects\n",
        "X_train_previously_posted_projects = normalizer.transform(X_train['teacher_number_of_previously_posted_projects'].values.reshape(1,-1))\n",
        "X_cv_previously_posted_projects = normalizer.transform(X_cv['teacher_number_of_previously_posted_projects'].values.reshape(1,-1))\n",
        "X_test_previously_posted_projects = normalizer.transform(X_test['teacher_number_of_previously_posted_projects'].values.reshape(1,-1))"
      ],
      "execution_count": 0,
      "outputs": []
    },
    {
      "cell_type": "code",
      "metadata": {
        "id": "ESzjPRP1modn",
        "colab_type": "code",
        "colab": {}
      },
      "source": [
        "from scipy.sparse import hstack\n",
        "X_train_price_norm=X_train_price_norm.reshape(-1,1)\n",
        "X_train_previously_posted_projects=X_train_previously_posted_projects.reshape(-1,1)\n",
        "X_test_price_norm=X_test_price_norm.reshape(-1,1)\n",
        "X_test_previously_posted_projects=X_test_previously_posted_projects.reshape(-1,1)\n",
        "X_cv_price_norm=X_cv_price_norm.reshape(-1,1)\n",
        "X_cv_previously_posted_projects=X_cv_previously_posted_projects.reshape(-1,1)"
      ],
      "execution_count": 0,
      "outputs": []
    },
    {
      "cell_type": "code",
      "metadata": {
        "id": "Di6u7sq8mobs",
        "colab_type": "code",
        "colab": {}
      },
      "source": [
        "X_tr=hstack((essay_train_bow,train_school_bow,train_teacher_bow,train_project_grade_category_bow,\n",
        "            train_clean_categories_bow,train_clean_sub_categories_bow,X_train_price_norm,X_train_previously_posted_projects)).tocsr()\n",
        "X_te=hstack((essay_test_bow,test_school_bow,test_teacher_bow,test_project_grade_category_bow,\n",
        "            test_clean_categories_bow,test_clean_sub_categories_bow,X_test_price_norm,X_test_previously_posted_projects)).tocsr()\n",
        "X_cv=hstack((essay_cv_bow,cv_school_bow,cv_teacher_bow,cv_project_grade_category_bow,\n",
        "            cv_clean_categories_bow,cv_clean_sub_categories_bow,X_cv_price_norm,X_cv_previously_posted_projects)).tocsr()"
      ],
      "execution_count": 0,
      "outputs": []
    },
    {
      "cell_type": "code",
      "metadata": {
        "id": "uWjeK1eNmoWc",
        "colab_type": "code",
        "colab": {
          "base_uri": "https://localhost:8080/",
          "height": 153
        },
        "outputId": "18414299-befd-48fc-ae59-108a7a5d49c2"
      },
      "source": [
        "print(X_train_previously_posted_projects.shape)\n",
        "print(essay_train_bow.shape)\n",
        "print(train_school_bow.shape)\n",
        "print(train_teacher_bow.shape)\n",
        "print(train_project_grade_category_bow.shape)\n",
        "print(train_clean_categories_bow.shape)\n",
        "print(train_clean_sub_categories_bow.shape)\n",
        "print(X_train_price_norm.shape)"
      ],
      "execution_count": 169,
      "outputs": [
        {
          "output_type": "stream",
          "text": [
            "(69918, 1)\n",
            "(69918, 10159)\n",
            "(69918, 51)\n",
            "(69918, 5)\n",
            "(69918, 4)\n",
            "(69918, 9)\n",
            "(69918, 30)\n",
            "(69918, 1)\n"
          ],
          "name": "stdout"
        }
      ]
    },
    {
      "cell_type": "code",
      "metadata": {
        "id": "TTl6FjBjmoQY",
        "colab_type": "code",
        "colab": {
          "base_uri": "https://localhost:8080/",
          "height": 68
        },
        "outputId": "ae701888-ff2d-4eff-a96c-54fbdf221add"
      },
      "source": [
        "print(X_tr.shape)\n",
        "print(X_te.shape)\n",
        "print(X_cv.shape)"
      ],
      "execution_count": 172,
      "outputs": [
        {
          "output_type": "stream",
          "text": [
            "(69918, 10260)\n",
            "(21850, 10260)\n",
            "(17480, 10260)\n"
          ],
          "name": "stdout"
        }
      ]
    },
    {
      "cell_type": "markdown",
      "metadata": {
        "id": "UXvlYJt7nBkp",
        "colab_type": "text"
      },
      "source": [
        "<h2>1.5 Appling NB on different kind of featurization as mentioned in the instructions</h2>\n",
        "\n",
        "<br>Apply NB on different kind of featurization as mentioned in the instructions\n",
        "<br> For Every model that you work on make sure you do the step 2 and step 3 of instrucations"
      ]
    },
    {
      "cell_type": "code",
      "metadata": {
        "id": "jgoToFI2moLD",
        "colab_type": "code",
        "colab": {}
      },
      "source": [
        "y_train=np.array(y_train)\n",
        "y_cv=np.array(y_cv)\n",
        "from tqdm import tqdm\n",
        "from sklearn.naive_bayes import MultinomialNB\n",
        "from sklearn.metrics import roc_auc_score\n",
        "parameter=np.array([0.0001,0.0002,0.005,0.05,0.01,1,69,150,780,1000])\n"
      ],
      "execution_count": 0,
      "outputs": []
    },
    {
      "cell_type": "code",
      "metadata": {
        "id": "-LCpjhnb8ZNT",
        "colab_type": "code",
        "colab": {
          "base_uri": "https://localhost:8080/",
          "height": 34
        },
        "outputId": "d9c11e12-5a9c-40ea-efc6-fdea8bf9e002"
      },
      "source": [
        "X_cv.shape"
      ],
      "execution_count": 174,
      "outputs": [
        {
          "output_type": "execute_result",
          "data": {
            "text/plain": [
              "(17480, 10260)"
            ]
          },
          "metadata": {
            "tags": []
          },
          "execution_count": 174
        }
      ]
    },
    {
      "cell_type": "code",
      "metadata": {
        "id": "pFguTjGImoIg",
        "colab_type": "code",
        "colab": {
          "base_uri": "https://localhost:8080/",
          "height": 391
        },
        "outputId": "fd72dc69-f6cd-400c-c06f-f2c1fcacd41c"
      },
      "source": [
        "train_acc=list()\n",
        "cv_acc=list()\n",
        "for i in tqdm(range((len(parameter)))):\n",
        "    clf=MultinomialNB(alpha=parameter[i])\n",
        "    clf.fit(X_tr.toarray(),y_train)\n",
        "    cv_pred=clf.predict_proba(X_cv.toarray())\n",
        "    train_pred=clf.predict_proba(X_tr.toarray())\n",
        "    t=roc_auc_score(y_cv,cv_pred[:,1])\n",
        "    print(t)\n",
        "    cv_acc.append(t)\n",
        "    train_acc.append(roc_auc_score(y_train,train_pred[:,1]))\n",
        "    \n",
        "    "
      ],
      "execution_count": 175,
      "outputs": [
        {
          "output_type": "stream",
          "text": [
            "\n",
            "  0%|          | 0/10 [00:00<?, ?it/s]\u001b[A\n",
            " 10%|█         | 1/10 [00:07<01:06,  7.34s/it]\u001b[A"
          ],
          "name": "stderr"
        },
        {
          "output_type": "stream",
          "text": [
            "0.7039126019845019\n"
          ],
          "name": "stdout"
        },
        {
          "output_type": "stream",
          "text": [
            "\n",
            " 20%|██        | 2/10 [00:14<00:57,  7.18s/it]\u001b[A"
          ],
          "name": "stderr"
        },
        {
          "output_type": "stream",
          "text": [
            "0.7043182261058268\n"
          ],
          "name": "stdout"
        },
        {
          "output_type": "stream",
          "text": [
            "\n",
            " 30%|███       | 3/10 [00:20<00:49,  7.06s/it]\u001b[A"
          ],
          "name": "stderr"
        },
        {
          "output_type": "stream",
          "text": [
            "0.706495635032629\n"
          ],
          "name": "stdout"
        },
        {
          "output_type": "stream",
          "text": [
            "\n",
            " 40%|████      | 4/10 [00:27<00:41,  6.97s/it]\u001b[A"
          ],
          "name": "stderr"
        },
        {
          "output_type": "stream",
          "text": [
            "0.708176086917155\n"
          ],
          "name": "stdout"
        },
        {
          "output_type": "stream",
          "text": [
            "\n",
            " 50%|█████     | 5/10 [00:34<00:34,  6.91s/it]\u001b[A"
          ],
          "name": "stderr"
        },
        {
          "output_type": "stream",
          "text": [
            "0.7070040405266532\n"
          ],
          "name": "stdout"
        },
        {
          "output_type": "stream",
          "text": [
            "\n",
            " 60%|██████    | 6/10 [00:41<00:27,  6.87s/it]\u001b[A"
          ],
          "name": "stderr"
        },
        {
          "output_type": "stream",
          "text": [
            "0.7080495044806998\n"
          ],
          "name": "stdout"
        },
        {
          "output_type": "stream",
          "text": [
            "\n",
            " 70%|███████   | 7/10 [00:48<00:20,  6.85s/it]\u001b[A"
          ],
          "name": "stderr"
        },
        {
          "output_type": "stream",
          "text": [
            "0.6057810580768623\n"
          ],
          "name": "stdout"
        },
        {
          "output_type": "stream",
          "text": [
            "\n",
            " 80%|████████  | 8/10 [00:54<00:13,  6.84s/it]\u001b[A"
          ],
          "name": "stderr"
        },
        {
          "output_type": "stream",
          "text": [
            "0.5209039177926285\n"
          ],
          "name": "stdout"
        },
        {
          "output_type": "stream",
          "text": [
            "\n",
            " 90%|█████████ | 9/10 [01:01<00:06,  6.81s/it]\u001b[A"
          ],
          "name": "stderr"
        },
        {
          "output_type": "stream",
          "text": [
            "0.5000878054224707\n"
          ],
          "name": "stdout"
        },
        {
          "output_type": "stream",
          "text": [
            "\n",
            "100%|██████████| 10/10 [01:08<00:00,  6.84s/it]"
          ],
          "name": "stderr"
        },
        {
          "output_type": "stream",
          "text": [
            "0.500188893086513\n"
          ],
          "name": "stdout"
        },
        {
          "output_type": "stream",
          "text": [
            "\n"
          ],
          "name": "stderr"
        }
      ]
    },
    {
      "cell_type": "code",
      "metadata": {
        "id": "r1YQlAjQmoGq",
        "colab_type": "code",
        "colab": {
          "base_uri": "https://localhost:8080/",
          "height": 71
        },
        "outputId": "a59d5448-68f1-4911-913c-993975aea8b0"
      },
      "source": [
        "print(train_acc)\n",
        "print(cv_acc)"
      ],
      "execution_count": 176,
      "outputs": [
        {
          "output_type": "stream",
          "text": [
            "[0.7678693755387686, 0.7677626019077164, 0.7669177754620738, 0.7655512844033523, 0.7666160571898025, 0.7570980695960807, 0.6196529068707729, 0.526128036940943, 0.49999666712992524, 0.5000219466350205]\n",
            "[0.7039126019845019, 0.7043182261058268, 0.706495635032629, 0.708176086917155, 0.7070040405266532, 0.7080495044806998, 0.6057810580768623, 0.5209039177926285, 0.5000878054224707, 0.500188893086513]\n"
          ],
          "name": "stdout"
        }
      ]
    },
    {
      "cell_type": "code",
      "metadata": {
        "id": "88Yur88EnbZx",
        "colab_type": "code",
        "colab": {
          "base_uri": "https://localhost:8080/",
          "height": 296
        },
        "outputId": "515c080b-96ba-4b59-8ff2-43c9a798043c"
      },
      "source": [
        "plt.plot(parameter,train_acc,label=\"Train\")\n",
        "plt.plot(parameter,cv_acc,label=\"CV\")\n",
        "plt.scatter(parameter, train_acc, label='Train AUC points')\n",
        "plt.scatter(parameter, cv_acc, label='CV AUC points')\n",
        "plt.xlabel(\"parameter\")\n",
        "plt.ylabel(\"Accuracy\")\n",
        "plt.legend()"
      ],
      "execution_count": 177,
      "outputs": [
        {
          "output_type": "execute_result",
          "data": {
            "text/plain": [
              "<matplotlib.legend.Legend at 0x7f0d8f6c1d68>"
            ]
          },
          "metadata": {
            "tags": []
          },
          "execution_count": 177
        },
        {
          "output_type": "display_data",
          "data": {
            "image/png": "[encoded data removed]",
            "text/plain": [
              "<Figure size 432x288 with 1 Axes>"
            ]
          },
          "metadata": {
            "tags": [],
            "needs_background": "light"
          }
        }
      ]
    },
    {
      "cell_type": "code",
      "metadata": {
        "id": "dXNfyR_QnbhY",
        "colab_type": "code",
        "colab": {
          "base_uri": "https://localhost:8080/",
          "height": 51
        },
        "outputId": "5d0d4025-9e3b-4827-b745-9d7f353737ff"
      },
      "source": [
        "index=cv_acc.index(max(cv_acc))\n",
        "print(\"Maximum Accuracy =\" ,cv_acc[index])\n",
        "print(\"Alpha Value =\",parameter[index])"
      ],
      "execution_count": 178,
      "outputs": [
        {
          "output_type": "stream",
          "text": [
            "Maximum Accuracy = 0.708176086917155\n",
            "Alpha Value = 0.05\n"
          ],
          "name": "stdout"
        }
      ]
    },
    {
      "cell_type": "code",
      "metadata": {
        "id": "4yc4FX3wnbtH",
        "colab_type": "code",
        "colab": {
          "base_uri": "https://localhost:8080/",
          "height": 34
        },
        "outputId": "92f639c4-7d58-44ea-a9a4-6add4da00f4d"
      },
      "source": [
        "clf=BernoulliNB(alpha=1)\n",
        "clf.fit(X_tr[0:50000,].toarray(),y_train[0:50000])"
      ],
      "execution_count": 179,
      "outputs": [
        {
          "output_type": "execute_result",
          "data": {
            "text/plain": [
              "BernoulliNB(alpha=1, binarize=0.0, class_prior=None, fit_prior=True)"
            ]
          },
          "metadata": {
            "tags": []
          },
          "execution_count": 179
        }
      ]
    },
    {
      "cell_type": "code",
      "metadata": {
        "id": "kdiKwgaknbzF",
        "colab_type": "code",
        "colab": {}
      },
      "source": [
        "test_predict=clf.predict_proba(X_te)\n",
        "test_predict=np.array(test_predict)\n",
        "train_predict=clf.predict_proba(X_tr)\n",
        "train_predict=np.array(train_predict)"
      ],
      "execution_count": 0,
      "outputs": []
    },
    {
      "cell_type": "code",
      "metadata": {
        "id": "7yVTKG2nnb5E",
        "colab_type": "code",
        "colab": {
          "base_uri": "https://localhost:8080/",
          "height": 34
        },
        "outputId": "0c284b2c-5708-41d8-cd72-7e43819b0090"
      },
      "source": [
        "print(roc_auc_score(y_test,test_predict[:,1]))"
      ],
      "execution_count": 181,
      "outputs": [
        {
          "output_type": "stream",
          "text": [
            "0.6983933302439496\n"
          ],
          "name": "stdout"
        }
      ]
    },
    {
      "cell_type": "code",
      "metadata": {
        "id": "veD_lJSAnb-X",
        "colab_type": "code",
        "colab": {}
      },
      "source": [
        "from sklearn.metrics import roc_curve,auc"
      ],
      "execution_count": 0,
      "outputs": []
    },
    {
      "cell_type": "code",
      "metadata": {
        "id": "_00sibM8nb3W",
        "colab_type": "code",
        "colab": {
          "base_uri": "https://localhost:8080/",
          "height": 295
        },
        "outputId": "abf970a2-332a-437d-9909-d1b12c8d5ded"
      },
      "source": [
        "train_fpr, train_tpr, tr_thresholds = roc_curve(y_train, train_predict[:,1])\n",
        "test_fpr, test_tpr, te_thresholds = roc_curve(y_test, test_predict[:,1])\n",
        "\n",
        "plt.plot(train_fpr, train_tpr, label=\"train AUC =\"+str(auc(train_fpr, train_tpr)))\n",
        "plt.plot(test_fpr, test_tpr, label=\"test AUC =\"+str(auc(test_fpr, test_tpr)))\n",
        "plt.legend()\n",
        "plt.xlabel(\"K: hyperparameter\")\n",
        "plt.ylabel(\"AUC\")\n",
        "plt.title(\"ERROR PLOTS\")\n",
        "plt.grid()\n",
        "plt.show()"
      ],
      "execution_count": 183,
      "outputs": [
        {
          "output_type": "display_data",
          "data": {
            "image/png": "[encoded data removed]",
            "text/plain": [
              "<Figure size 432x288 with 1 Axes>"
            ]
          },
          "metadata": {
            "tags": [],
            "needs_background": "light"
          }
        }
      ]
    },
    {
      "cell_type": "code",
      "metadata": {
        "id": "5c6VqpiB04sD",
        "colab_type": "code",
        "colab": {
          "base_uri": "https://localhost:8080/",
          "height": 313
        },
        "outputId": "3a32df99-2ac4-421a-a56e-0dd8f8bfb903"
      },
      "source": [
        "disp = plot_confusion_matrix(clf,X_tr[0:45000,].toarray(),y_train[0:45000])\n",
        "print(disp.confusion_matrix)"
      ],
      "execution_count": 184,
      "outputs": [
        {
          "output_type": "stream",
          "text": [
            "[[ 3763  3055]\n",
            " [ 6100 32082]]\n"
          ],
          "name": "stdout"
        },
        {
          "output_type": "display_data",
          "data": {
            "image/png": "[encoded data removed]",
            "text/plain": [
              "<Figure size 432x288 with 2 Axes>"
            ]
          },
          "metadata": {
            "tags": [],
            "needs_background": "light"
          }
        }
      ]
    },
    {
      "cell_type": "code",
      "metadata": {
        "id": "GscPa8EwnbxR",
        "colab_type": "code",
        "colab": {
          "base_uri": "https://localhost:8080/",
          "height": 34
        },
        "outputId": "798e2ec6-fab0-4d78-9a7c-8457849fb5b2"
      },
      "source": [
        "import pickle\n",
        "import joblib\n",
        "filename=\"bernoulialgo.sav\"\n",
        "joblib.dump(clf,filename)"
      ],
      "execution_count": 185,
      "outputs": [
        {
          "output_type": "execute_result",
          "data": {
            "text/plain": [
              "['bernoulialgo.sav']"
            ]
          },
          "metadata": {
            "tags": []
          },
          "execution_count": 185
        }
      ]
    },
    {
      "cell_type": "code",
      "metadata": {
        "id": "gCmnwp0Dnbqk",
        "colab_type": "code",
        "colab": {}
      },
      "source": [
        ""
      ],
      "execution_count": 0,
      "outputs": []
    },
    {
      "cell_type": "code",
      "metadata": {
        "id": "MbrLNjtUqUgz",
        "colab_type": "code",
        "colab": {}
      },
      "source": [
        ""
      ],
      "execution_count": 0,
      "outputs": []
    },
    {
      "cell_type": "markdown",
      "metadata": {
        "id": "dFxiVlraoCdD",
        "colab_type": "text"
      },
      "source": [
        "**bold text**TF-IDF"
      ]
    },
    {
      "cell_type": "code",
      "metadata": {
        "id": "0-zr65Uk-8W1",
        "colab_type": "code",
        "colab": {}
      },
      "source": [
        "\n",
        "data = pd.read_csv('preprocessed_data.csv')\n",
        "y=data.project_is_approved\n",
        "data.drop(columns={\"project_is_approved\"},axis=0,inplace=True)\n",
        "X_train,X_test,y_train,y_test=train_test_split(data,y,test_size=0.2,stratify=y)\n",
        "X_train,X_cv,y_train,y_cv=train_test_split(X_train,y_train,test_size=0.2,stratify=y_train)"
      ],
      "execution_count": 0,
      "outputs": []
    },
    {
      "cell_type": "code",
      "metadata": {
        "id": "TvUhNJ82qVLQ",
        "colab_type": "code",
        "colab": {
          "base_uri": "https://localhost:8080/",
          "height": 34
        },
        "outputId": "33e300e0-e838-41e2-876d-8bec9f59d6da"
      },
      "source": [
        "len(temp)"
      ],
      "execution_count": 188,
      "outputs": [
        {
          "output_type": "execute_result",
          "data": {
            "text/plain": [
              "10187"
            ]
          },
          "metadata": {
            "tags": []
          },
          "execution_count": 188
        }
      ]
    },
    {
      "cell_type": "code",
      "metadata": {
        "id": "SAzXcLoUonUN",
        "colab_type": "code",
        "colab": {}
      },
      "source": [
        "\n",
        "data = pd.read_csv('preprocessed_data.csv')\n",
        "y=data.project_is_approved\n",
        "data.drop(columns={\"project_is_approved\"},axis=0,inplace=True)\n",
        "X_train,X_test,y_train,y_test=train_test_split(data,y,test_size=0.2,stratify=y)\n",
        "X_train,X_cv,y_train,y_cv=train_test_split(X_train,y_train,test_size=0.2,stratify=y_train)"
      ],
      "execution_count": 0,
      "outputs": []
    },
    {
      "cell_type": "code",
      "metadata": {
        "id": "mwboKQjknbnh",
        "colab_type": "code",
        "colab": {}
      },
      "source": [
        "from sklearn.feature_extraction.text import TfidfVectorizer\n",
        "vectorizer = TfidfVectorizer()\n",
        "vectorizer.fit(temp)\n",
        "essay_train=vectorizer.transform(X_train.essay)\n",
        "essay_test=vectorizer.transform(X_test.essay)\n",
        "essay_cv=vectorizer.transform(X_cv.essay)\n"
      ],
      "execution_count": 0,
      "outputs": []
    },
    {
      "cell_type": "code",
      "metadata": {
        "id": "PJBloV3VoG0-",
        "colab_type": "code",
        "colab": {
          "base_uri": "https://localhost:8080/",
          "height": 68
        },
        "outputId": "4f43137d-5cee-4b4e-b3e5-ce783863d309"
      },
      "source": [
        "print(\"Shape of matrix after one hot encodig \",essay_train.shape)\n",
        "print(\"Shape of matrix after one hot encodig \",essay_test.shape)\n",
        "print(\"Shape of matrix after one hot encodig \",essay_cv.shape)"
      ],
      "execution_count": 191,
      "outputs": [
        {
          "output_type": "stream",
          "text": [
            "Shape of matrix after one hot encodig  (69918, 10159)\n",
            "Shape of matrix after one hot encodig  (21850, 10159)\n",
            "Shape of matrix after one hot encodig  (17480, 10159)\n"
          ],
          "name": "stdout"
        }
      ]
    },
    {
      "cell_type": "code",
      "metadata": {
        "id": "eQ8E-7PgoHAC",
        "colab_type": "code",
        "colab": {}
      },
      "source": [
        "school_state=data.school_state\n",
        "vectorizer.fit(X_train['school_state'])\n",
        "train_school_bow=vectorizer.transform(X_train['school_state'])\n",
        "test_school_bow=vectorizer.transform(X_test['school_state'])\n",
        "cv_school_bow=vectorizer.transform(X_cv['school_state'])"
      ],
      "execution_count": 0,
      "outputs": []
    },
    {
      "cell_type": "code",
      "metadata": {
        "id": "QjB1CmlUoHF0",
        "colab_type": "code",
        "colab": {}
      },
      "source": [
        "teacher_prefix=data.teacher_prefix\n",
        "vectorizer.fit(X_train['teacher_prefix'])\n",
        "train_teacher_bow=vectorizer.transform(X_train['teacher_prefix'])\n",
        "test_teacher_bow=vectorizer.transform(X_test['teacher_prefix'])\n",
        "cv_teacher_bow=vectorizer.transform(X_cv['teacher_prefix'])"
      ],
      "execution_count": 0,
      "outputs": []
    },
    {
      "cell_type": "code",
      "metadata": {
        "id": "HKeq_UiqoHZz",
        "colab_type": "code",
        "colab": {}
      },
      "source": [
        "project_grade_category=data.project_grade_category\n",
        "vectorizer.fit(X_train['project_grade_category'])\n",
        "train_project_grade_category_bow=vectorizer.transform(X_train['project_grade_category'])\n",
        "test_project_grade_category_bow=vectorizer.transform(X_test['project_grade_category'])\n",
        "cv_project_grade_category_bow=vectorizer.transform(X_cv['project_grade_category'])"
      ],
      "execution_count": 0,
      "outputs": []
    },
    {
      "cell_type": "code",
      "metadata": {
        "id": "vNCTT_umoHWf",
        "colab_type": "code",
        "colab": {}
      },
      "source": [
        "clean_categories=data.clean_categories\n",
        "vectorizer.fit(X_train['clean_categories'])\n",
        "train_clean_categories_bow=vectorizer.transform(X_train['clean_categories'])\n",
        "test_clean_categories_bow=vectorizer.transform(X_test['clean_categories'])\n",
        "cv_clean_categories_bow=vectorizer.transform(X_cv['clean_categories'])\n"
      ],
      "execution_count": 0,
      "outputs": []
    },
    {
      "cell_type": "code",
      "metadata": {
        "id": "lV3s2Tz6oHTF",
        "colab_type": "code",
        "colab": {}
      },
      "source": [
        "clean_sub_categories=data.clean_subcategories\n",
        "vectorizer.fit(X_train['clean_subcategories'])\n",
        "train_clean_sub_categories_bow=vectorizer.transform(X_train['clean_subcategories'])\n",
        "test_clean_sub_categories_bow=vectorizer.transform(X_test['clean_subcategories'])\n",
        "cv_clean_sub_categories_bow=vectorizer.transform(X_cv['clean_subcategories'])\n"
      ],
      "execution_count": 0,
      "outputs": []
    },
    {
      "cell_type": "code",
      "metadata": {
        "id": "2Rgf560koHRJ",
        "colab_type": "code",
        "colab": {}
      },
      "source": [
        "from sklearn.preprocessing import Normalizer\n",
        "normalizer=Normalizer()\n",
        "normalizer.fit(X_train['price'].values.reshape(1,-1))\n",
        "X_train_price_norm = normalizer.transform(X_train['price'].values.reshape(1,-1))\n",
        "X_cv_price_norm = normalizer.transform(X_cv['price'].values.reshape(1,-1))\n",
        "X_test_price_norm = normalizer.transform(X_test['price'].values.reshape(1,-1))\n"
      ],
      "execution_count": 0,
      "outputs": []
    },
    {
      "cell_type": "code",
      "metadata": {
        "id": "rGV7bBd5oHPL",
        "colab_type": "code",
        "colab": {}
      },
      "source": [
        "previously_posted_projects=data.teacher_number_of_previously_posted_projects\n",
        "X_train_previously_posted_projects = normalizer.transform(X_train['teacher_number_of_previously_posted_projects'].values.reshape(1,-1))\n",
        "X_cv_previously_posted_projects = normalizer.transform(X_cv['teacher_number_of_previously_posted_projects'].values.reshape(1,-1))\n",
        "X_test_previously_posted_projects = normalizer.transform(X_test['teacher_number_of_previously_posted_projects'].values.reshape(1,-1))"
      ],
      "execution_count": 0,
      "outputs": []
    },
    {
      "cell_type": "code",
      "metadata": {
        "id": "zz_jhqFxoHNI",
        "colab_type": "code",
        "colab": {}
      },
      "source": [
        "from scipy.sparse import hstack\n",
        "X_train_price_norm=X_train_price_norm.reshape(-1,1)\n",
        "X_train_previously_posted_projects=X_train_previously_posted_projects.reshape(-1,1)\n",
        "X_test_price_norm=X_test_price_norm.reshape(-1,1)\n",
        "X_test_previously_posted_projects=X_test_previously_posted_projects.reshape(-1,1)\n",
        "X_cv_price_norm=X_cv_price_norm.reshape(-1,1)\n",
        "X_cv_previously_posted_projects=X_cv_previously_posted_projects.reshape(-1,1)"
      ],
      "execution_count": 0,
      "outputs": []
    },
    {
      "cell_type": "code",
      "metadata": {
        "id": "JIsg2rhQoHKK",
        "colab_type": "code",
        "colab": {}
      },
      "source": [
        "X_tr=hstack((essay_train_bow,train_school_bow,train_teacher_bow,train_project_grade_category_bow,\n",
        "            train_clean_categories_bow,train_clean_sub_categories_bow,X_train_price_norm,X_train_previously_posted_projects)).tocsr()\n",
        "X_te=hstack((essay_test_bow,test_school_bow,test_teacher_bow,test_project_grade_category_bow,\n",
        "            test_clean_categories_bow,test_clean_sub_categories_bow,X_test_price_norm,X_test_previously_posted_projects)).tocsr()\n",
        "X_cv=hstack((essay_cv_bow,cv_school_bow,cv_teacher_bow,cv_project_grade_category_bow,\n",
        "            cv_clean_categories_bow,cv_clean_sub_categories_bow,X_cv_price_norm,X_cv_previously_posted_projects)).tocsr()"
      ],
      "execution_count": 0,
      "outputs": []
    },
    {
      "cell_type": "code",
      "metadata": {
        "id": "u7uB5QDLoHDy",
        "colab_type": "code",
        "colab": {
          "base_uri": "https://localhost:8080/",
          "height": 153
        },
        "outputId": "53b3cef3-2945-40c5-e940-eb81026d64cb"
      },
      "source": [
        "print(X_train_previously_posted_projects.shape)\n",
        "print(essay_train_bow.shape)\n",
        "print(train_school_bow.shape)\n",
        "print(train_teacher_bow.shape)\n",
        "print(train_project_grade_category_bow.shape)\n",
        "print(train_clean_categories_bow.shape)\n",
        "print(train_clean_sub_categories_bow.shape)\n",
        "print(X_train_price_norm.shape)"
      ],
      "execution_count": 201,
      "outputs": [
        {
          "output_type": "stream",
          "text": [
            "(69918, 1)\n",
            "(69918, 10159)\n",
            "(69918, 51)\n",
            "(69918, 5)\n",
            "(69918, 4)\n",
            "(69918, 9)\n",
            "(69918, 30)\n",
            "(69918, 1)\n"
          ],
          "name": "stdout"
        }
      ]
    },
    {
      "cell_type": "code",
      "metadata": {
        "id": "4JELDmbjoG92",
        "colab_type": "code",
        "colab": {}
      },
      "source": [
        "y_train=np.array(y_train)\n",
        "y_cv=np.array(y_cv)\n",
        "from tqdm import tqdm\n",
        "from sklearn.naive_bayes import BernoulliNB\n",
        "from sklearn.metrics import roc_auc_score\n",
        "parameter=np.array([0.0001,0.0002,0.005,0.05,0.01,1,30,35,69,90,150,300,780,1000])\n"
      ],
      "execution_count": 0,
      "outputs": []
    },
    {
      "cell_type": "code",
      "metadata": {
        "id": "947raw5coG6n",
        "colab_type": "code",
        "colab": {
          "base_uri": "https://localhost:8080/",
          "height": 782
        },
        "outputId": "1a92ebf0-4b56-458b-fdb9-76f906e367ad"
      },
      "source": [
        "train_acc=list()\n",
        "cv_acc=list()\n",
        "for i in tqdm(range((len(parameter)))):\n",
        "    clf=MultinomialNB(alpha=parameter[i])\n",
        "    clf.fit(X_tr.toarray(),y_train)\n",
        "    cv_pred=clf.predict_proba(X_cv.toarray())\n",
        "    train_pred=clf.predict_proba(X_tr.toarray())\n",
        "    t=roc_auc_score(y_cv,cv_pred[:,1])\n",
        "    print(t)\n",
        "    cv_acc.append(t)\n",
        "    train_acc.append(roc_auc_score(y_train,train_pred[:,1]))\n",
        "    \n",
        "    "
      ],
      "execution_count": 205,
      "outputs": [
        {
          "output_type": "stream",
          "text": [
            "\n",
            "\n",
            "  0%|          | 0/14 [00:00<?, ?it/s]\u001b[A\u001b[A\n",
            "\n",
            "  7%|▋         | 1/14 [00:07<01:31,  7.02s/it]\u001b[A\u001b[A"
          ],
          "name": "stderr"
        },
        {
          "output_type": "stream",
          "text": [
            "0.5080997987135506\n"
          ],
          "name": "stdout"
        },
        {
          "output_type": "stream",
          "text": [
            "\n",
            "\n",
            " 14%|█▍        | 2/14 [00:14<01:24,  7.02s/it]\u001b[A\u001b[A"
          ],
          "name": "stderr"
        },
        {
          "output_type": "stream",
          "text": [
            "0.5080992893274884\n"
          ],
          "name": "stdout"
        },
        {
          "output_type": "stream",
          "text": [
            "\n",
            "\n",
            " 21%|██▏       | 3/14 [00:21<01:17,  7.01s/it]\u001b[A\u001b[A"
          ],
          "name": "stderr"
        },
        {
          "output_type": "stream",
          "text": [
            "0.5080941954668665\n"
          ],
          "name": "stdout"
        },
        {
          "output_type": "stream",
          "text": [
            "\n",
            "\n",
            " 29%|██▊       | 4/14 [00:27<01:09,  6.99s/it]\u001b[A\u001b[A"
          ],
          "name": "stderr"
        },
        {
          "output_type": "stream",
          "text": [
            "0.5081340676608848\n"
          ],
          "name": "stdout"
        },
        {
          "output_type": "stream",
          "text": [
            "\n",
            "\n",
            " 36%|███▌      | 5/14 [00:34<01:02,  6.98s/it]\u001b[A\u001b[A"
          ],
          "name": "stderr"
        },
        {
          "output_type": "stream",
          "text": [
            "0.508089776542777\n"
          ],
          "name": "stdout"
        },
        {
          "output_type": "stream",
          "text": [
            "\n",
            "\n",
            " 43%|████▎     | 6/14 [00:41<00:55,  6.96s/it]\u001b[A\u001b[A"
          ],
          "name": "stderr"
        },
        {
          "output_type": "stream",
          "text": [
            "0.5085387239486915\n"
          ],
          "name": "stdout"
        },
        {
          "output_type": "stream",
          "text": [
            "\n",
            "\n",
            " 50%|█████     | 7/14 [00:48<00:48,  6.96s/it]\u001b[A\u001b[A"
          ],
          "name": "stderr"
        },
        {
          "output_type": "stream",
          "text": [
            "0.5023445639631112\n"
          ],
          "name": "stdout"
        },
        {
          "output_type": "stream",
          "text": [
            "\n",
            "\n",
            " 57%|█████▋    | 8/14 [00:55<00:41,  6.96s/it]\u001b[A\u001b[A"
          ],
          "name": "stderr"
        },
        {
          "output_type": "stream",
          "text": [
            "0.5016799934370699\n"
          ],
          "name": "stdout"
        },
        {
          "output_type": "stream",
          "text": [
            "\n",
            "\n",
            " 64%|██████▍   | 9/14 [01:02<00:34,  6.96s/it]\u001b[A\u001b[A"
          ],
          "name": "stderr"
        },
        {
          "output_type": "stream",
          "text": [
            "0.5002085681231652\n"
          ],
          "name": "stdout"
        },
        {
          "output_type": "stream",
          "text": [
            "\n",
            "\n",
            " 71%|███████▏  | 10/14 [01:09<00:27,  6.96s/it]\u001b[A\u001b[A"
          ],
          "name": "stderr"
        },
        {
          "output_type": "stream",
          "text": [
            "0.5001145354560843\n"
          ],
          "name": "stdout"
        },
        {
          "output_type": "stream",
          "text": [
            "\n",
            "\n",
            " 79%|███████▊  | 11/14 [01:16<00:20,  6.95s/it]\u001b[A\u001b[A"
          ],
          "name": "stderr"
        },
        {
          "output_type": "stream",
          "text": [
            "0.5046831553746431\n"
          ],
          "name": "stdout"
        },
        {
          "output_type": "stream",
          "text": [
            "\n",
            "\n",
            " 86%|████████▌ | 12/14 [01:23<00:13,  6.95s/it]\u001b[A\u001b[A"
          ],
          "name": "stderr"
        },
        {
          "output_type": "stream",
          "text": [
            "0.4980670072404899\n"
          ],
          "name": "stdout"
        },
        {
          "output_type": "stream",
          "text": [
            "\n",
            "\n",
            " 93%|█████████▎| 13/14 [01:30<00:06,  6.94s/it]\u001b[A\u001b[A"
          ],
          "name": "stderr"
        },
        {
          "output_type": "stream",
          "text": [
            "0.4998651655093373\n"
          ],
          "name": "stdout"
        },
        {
          "output_type": "stream",
          "text": [
            "\n",
            "\n",
            "100%|██████████| 14/14 [01:37<00:00,  6.95s/it]"
          ],
          "name": "stderr"
        },
        {
          "output_type": "stream",
          "text": [
            "0.4999325827546686\n"
          ],
          "name": "stdout"
        },
        {
          "output_type": "stream",
          "text": [
            "\n"
          ],
          "name": "stderr"
        }
      ]
    },
    {
      "cell_type": "code",
      "metadata": {
        "id": "3WJo2-kdoG4w",
        "colab_type": "code",
        "colab": {
          "base_uri": "https://localhost:8080/",
          "height": 71
        },
        "outputId": "0fa58806-edf9-41e9-8a31-e39389e40ea9"
      },
      "source": [
        "print(train_acc)\n",
        "print(cv_acc)"
      ],
      "execution_count": 206,
      "outputs": [
        {
          "output_type": "stream",
          "text": [
            "[0.7348713938889064, 0.7348714145850186, 0.7348629514671218, 0.7347412248949772, 0.7348536031924243, 0.7258698140957549, 0.5413639535880003, 0.5366858895500358, 0.5217424471771177, 0.5174299003614173, 0.5059399672934881, 0.5003245309599884, 0.5001079779855837, 0.5000776040528605]\n",
            "[0.5080997987135506, 0.5080992893274884, 0.5080941954668665, 0.5081340676608848, 0.508089776542777, 0.5085387239486915, 0.5023445639631112, 0.5016799934370699, 0.5002085681231652, 0.5001145354560843, 0.5046831553746431, 0.4980670072404899, 0.4998651655093373, 0.4999325827546686]\n"
          ],
          "name": "stdout"
        }
      ]
    },
    {
      "cell_type": "code",
      "metadata": {
        "id": "QniBl1hFqqci",
        "colab_type": "code",
        "colab": {
          "base_uri": "https://localhost:8080/",
          "height": 296
        },
        "outputId": "153dd078-ee6e-4bfa-cb9c-efd36739df64"
      },
      "source": [
        "plt.plot(parameter,train_acc,label=\"Train\")\n",
        "plt.plot(parameter,cv_acc,label=\"CV\")\n",
        "plt.scatter(parameter, train_acc, label='Train AUC points')\n",
        "plt.scatter(parameter, cv_acc, label='CV AUC points')\n",
        "plt.xlabel(\"parameter\")\n",
        "plt.ylabel(\"Accuracy\")\n",
        "plt.legend()"
      ],
      "execution_count": 207,
      "outputs": [
        {
          "output_type": "execute_result",
          "data": {
            "text/plain": [
              "<matplotlib.legend.Legend at 0x7f0d8bdbe1d0>"
            ]
          },
          "metadata": {
            "tags": []
          },
          "execution_count": 207
        },
        {
          "output_type": "display_data",
          "data": {
            "image/png": "[encoded data removed]",
            "text/plain": [
              "<Figure size 432x288 with 1 Axes>"
            ]
          },
          "metadata": {
            "tags": [],
            "needs_background": "light"
          }
        }
      ]
    },
    {
      "cell_type": "code",
      "metadata": {
        "id": "V8R1NzQcqqgV",
        "colab_type": "code",
        "colab": {
          "base_uri": "https://localhost:8080/",
          "height": 51
        },
        "outputId": "e584bcc2-4e24-4434-df41-b7a74555c975"
      },
      "source": [
        "index=cv_acc.index(max(cv_acc))\n",
        "print(\"Maximum Accuracy =\" ,cv_acc[index])\n",
        "print(\"Alpha Value =\",parameter[index])"
      ],
      "execution_count": 208,
      "outputs": [
        {
          "output_type": "stream",
          "text": [
            "Maximum Accuracy = 0.5085387239486915\n",
            "Alpha Value = 1.0\n"
          ],
          "name": "stdout"
        }
      ]
    },
    {
      "cell_type": "code",
      "metadata": {
        "id": "FY7uHabEqqsx",
        "colab_type": "code",
        "colab": {
          "base_uri": "https://localhost:8080/",
          "height": 34
        },
        "outputId": "360ebf44-a5b5-41bf-e428-dc0f02a178e8"
      },
      "source": [
        "clf=BernoulliNB(alpha=1)\n",
        "clf.fit(X_tr[0:50000,].toarray(),y_train[0:50000])"
      ],
      "execution_count": 209,
      "outputs": [
        {
          "output_type": "execute_result",
          "data": {
            "text/plain": [
              "BernoulliNB(alpha=1, binarize=0.0, class_prior=None, fit_prior=True)"
            ]
          },
          "metadata": {
            "tags": []
          },
          "execution_count": 209
        }
      ]
    },
    {
      "cell_type": "code",
      "metadata": {
        "id": "yZEiFM2fqq4H",
        "colab_type": "code",
        "colab": {}
      },
      "source": [
        "test_predict=clf.predict_proba(X_te)\n",
        "test_predict=np.array(test_predict)\n",
        "train_predict=clf.predict_proba(X_tr)\n",
        "train_predict=np.array(train_predict)"
      ],
      "execution_count": 0,
      "outputs": []
    },
    {
      "cell_type": "code",
      "metadata": {
        "id": "7DmCj_oxqrGa",
        "colab_type": "code",
        "colab": {
          "base_uri": "https://localhost:8080/",
          "height": 34
        },
        "outputId": "74d92bf9-2647-43bf-ce7d-1c8f5c1379c9"
      },
      "source": [
        "print(roc_auc_score(y_test,test_predict[:,1]))"
      ],
      "execution_count": 211,
      "outputs": [
        {
          "output_type": "stream",
          "text": [
            "0.5146093049056119\n"
          ],
          "name": "stdout"
        }
      ]
    },
    {
      "cell_type": "code",
      "metadata": {
        "id": "LEI0YdxjqrNK",
        "colab_type": "code",
        "colab": {}
      },
      "source": [
        "from sklearn.metrics import roc_curve,auc"
      ],
      "execution_count": 0,
      "outputs": []
    },
    {
      "cell_type": "code",
      "metadata": {
        "id": "9bkf6IHbqrb2",
        "colab_type": "code",
        "colab": {
          "base_uri": "https://localhost:8080/",
          "height": 295
        },
        "outputId": "698ae78a-ea6b-4cdb-c706-1ce145437290"
      },
      "source": [
        "train_fpr, train_tpr, tr_thresholds = roc_curve(y_train, train_predict[:,1])\n",
        "test_fpr, test_tpr, te_thresholds = roc_curve(y_test, test_predict[:,1])\n",
        "\n",
        "plt.plot(train_fpr, train_tpr, label=\"train AUC =\"+str(auc(train_fpr, train_tpr)))\n",
        "plt.plot(test_fpr, test_tpr, label=\"test AUC =\"+str(auc(test_fpr, test_tpr)))\n",
        "plt.legend()\n",
        "plt.xlabel(\"K: hyperparameter\")\n",
        "plt.ylabel(\"AUC\")\n",
        "plt.title(\"ERROR PLOTS\")\n",
        "plt.grid()\n",
        "plt.show()"
      ],
      "execution_count": 214,
      "outputs": [
        {
          "output_type": "display_data",
          "data": {
            "image/png": "[encoded data removed]",
            "text/plain": [
              "<Figure size 432x288 with 1 Axes>"
            ]
          },
          "metadata": {
            "tags": [],
            "needs_background": "light"
          }
        }
      ]
    },
    {
      "cell_type": "code",
      "metadata": {
        "id": "hJwLZHnfqroY",
        "colab_type": "code",
        "colab": {
          "base_uri": "https://localhost:8080/",
          "height": 34
        },
        "outputId": "3fb176b7-391d-4325-93b8-b2552f8f3a6c"
      },
      "source": [
        "import pickle\n",
        "import joblib\n",
        "filename=\"bernoulitfidf.sav\"\n",
        "joblib.dump(clf,filename)"
      ],
      "execution_count": 215,
      "outputs": [
        {
          "output_type": "execute_result",
          "data": {
            "text/plain": [
              "['bernoulitfidf.sav']"
            ]
          },
          "metadata": {
            "tags": []
          },
          "execution_count": 215
        }
      ]
    },
    {
      "cell_type": "code",
      "metadata": {
        "id": "h_bVG5Ynqrxn",
        "colab_type": "code",
        "colab": {}
      },
      "source": [
        "from sklearn.metrics import plot_confusion_matrix"
      ],
      "execution_count": 0,
      "outputs": []
    },
    {
      "cell_type": "code",
      "metadata": {
        "id": "wR-6z22oqrvm",
        "colab_type": "code",
        "colab": {
          "base_uri": "https://localhost:8080/",
          "height": 313
        },
        "outputId": "b2b31fb7-64b2-420f-e7ad-a8481b231a50"
      },
      "source": [
        "disp = plot_confusion_matrix(clf,X_tr[0:45000,].toarray(),y_train[0:45000])\n",
        "print(disp.confusion_matrix)"
      ],
      "execution_count": 217,
      "outputs": [
        {
          "output_type": "stream",
          "text": [
            "[[ 1643  5179]\n",
            " [ 1347 36831]]\n"
          ],
          "name": "stdout"
        },
        {
          "output_type": "display_data",
          "data": {
            "image/png": "[encoded data removed]",
            "text/plain": [
              "<Figure size 432x288 with 2 Axes>"
            ]
          },
          "metadata": {
            "tags": [],
            "needs_background": "light"
          }
        }
      ]
    },
    {
      "cell_type": "code",
      "metadata": {
        "id": "PGqCqhvNqrkt",
        "colab_type": "code",
        "colab": {}
      },
      "source": [
        ""
      ],
      "execution_count": 0,
      "outputs": []
    },
    {
      "cell_type": "markdown",
      "metadata": {
        "id": "gqTfaKy-xGV5",
        "colab_type": "text"
      },
      "source": [
        "Summary"
      ]
    },
    {
      "cell_type": "code",
      "metadata": {
        "id": "F7Pvo7LgqrjF",
        "colab_type": "code",
        "colab": {}
      },
      "source": [
        ""
      ],
      "execution_count": 0,
      "outputs": []
    },
    {
      "cell_type": "markdown",
      "metadata": {
        "id": "Pzj4lY4_xUJ2",
        "colab_type": "text"
      },
      "source": [
        "# **vectorizer**        **Model**          **HyperParameter**            **AUC**\n",
        "                                      \n",
        "\n",
        "1.   **BOW**              **Brute**             **0.05**         **0.69** \n",
        "2.   **TF-idf**       **Brute**               **1**                **0.51**\n",
        "\n",
        "\n",
        "\n",
        "\n",
        "> Indented block\n",
        "\n"
      ]
    },
    {
      "cell_type": "markdown",
      "metadata": {
        "id": "awimjn74BKJu",
        "colab_type": "text"
      },
      "source": [
        "So After performing analysis I conclude that when I used Bow representation with Multinomial Bayes Theorem with alpha value of 0.05 the i got an auc sore of 0.698 on test data and 0.71 on cross-validation data.\n",
        "\n",
        "When I used tf-idf representation with Multinomial Naive Bayes with alpha value of 1 then i got an auc score of 0.51 on test data."
      ]
    },
    {
      "cell_type": "code",
      "metadata": {
        "id": "Wy2JoqcPqrZC",
        "colab_type": "code",
        "colab": {}
      },
      "source": [
        ""
      ],
      "execution_count": 0,
      "outputs": []
    },
    {
      "cell_type": "code",
      "metadata": {
        "id": "8KYIO2ZPqrWC",
        "colab_type": "code",
        "colab": {}
      },
      "source": [
        ""
      ],
      "execution_count": 0,
      "outputs": []
    },
    {
      "cell_type": "code",
      "metadata": {
        "id": "oi9nsE4sqrUU",
        "colab_type": "code",
        "colab": {}
      },
      "source": [
        ""
      ],
      "execution_count": 0,
      "outputs": []
    },
    {
      "cell_type": "code",
      "metadata": {
        "id": "lXO4jJtZqrR5",
        "colab_type": "code",
        "colab": {}
      },
      "source": [
        ""
      ],
      "execution_count": 0,
      "outputs": []
    },
    {
      "cell_type": "code",
      "metadata": {
        "id": "yq5DWv3bqrK3",
        "colab_type": "code",
        "colab": {}
      },
      "source": [
        ""
      ],
      "execution_count": 0,
      "outputs": []
    },
    {
      "cell_type": "code",
      "metadata": {
        "id": "nJD3bhICqrDY",
        "colab_type": "code",
        "colab": {}
      },
      "source": [
        ""
      ],
      "execution_count": 0,
      "outputs": []
    },
    {
      "cell_type": "code",
      "metadata": {
        "id": "cn-gr5DhqrAv",
        "colab_type": "code",
        "colab": {}
      },
      "source": [
        ""
      ],
      "execution_count": 0,
      "outputs": []
    },
    {
      "cell_type": "code",
      "metadata": {
        "id": "mTBFO4lWqq-z",
        "colab_type": "code",
        "colab": {}
      },
      "source": [
        ""
      ],
      "execution_count": 0,
      "outputs": []
    },
    {
      "cell_type": "code",
      "metadata": {
        "id": "avQOabpiqq8s",
        "colab_type": "code",
        "colab": {}
      },
      "source": [
        ""
      ],
      "execution_count": 0,
      "outputs": []
    },
    {
      "cell_type": "code",
      "metadata": {
        "id": "HnoygeZqqq1h",
        "colab_type": "code",
        "colab": {}
      },
      "source": [
        ""
      ],
      "execution_count": 0,
      "outputs": []
    },
    {
      "cell_type": "code",
      "metadata": {
        "id": "Nt_V3KLpqqz8",
        "colab_type": "code",
        "colab": {}
      },
      "source": [
        ""
      ],
      "execution_count": 0,
      "outputs": []
    },
    {
      "cell_type": "code",
      "metadata": {
        "id": "YeIQ85x6qqxJ",
        "colab_type": "code",
        "colab": {}
      },
      "source": [
        ""
      ],
      "execution_count": 0,
      "outputs": []
    },
    {
      "cell_type": "code",
      "metadata": {
        "id": "DNFOkgJRqqp9",
        "colab_type": "code",
        "colab": {}
      },
      "source": [
        ""
      ],
      "execution_count": 0,
      "outputs": []
    },
    {
      "cell_type": "code",
      "metadata": {
        "id": "MHyw9DCtqqny",
        "colab_type": "code",
        "colab": {}
      },
      "source": [
        ""
      ],
      "execution_count": 0,
      "outputs": []
    },
    {
      "cell_type": "code",
      "metadata": {
        "id": "8od0FtFwqqlU",
        "colab_type": "code",
        "colab": {}
      },
      "source": [
        ""
      ],
      "execution_count": 0,
      "outputs": []
    },
    {
      "cell_type": "markdown",
      "metadata": {
        "id": "BUun25hsnWDG",
        "colab_type": "text"
      },
      "source": [
        ""
      ]
    }
  ]
}