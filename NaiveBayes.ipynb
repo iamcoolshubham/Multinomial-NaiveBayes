{
 "cells": [
  {
   "cell_type": "code",
   "execution_count": 1,
   "metadata": {
    "colab": {
     "base_uri": "https://localhost:8080/",
     "height": 74,
     "resources": {
      "http://localhost:8080/nbextensions/google.colab/files.js": {
       "data": "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",
       "headers": [
        [
         "content-type",
         "application/javascript"
        ]
       ],
       "ok": true,
       "status": 200,
       "status_text": ""
      }
     }
    },
    "colab_type": "code",
    "id": "XEMciGWaLs9E",
    "outputId": "7a97c092-5322-4019-d6bf-7ce056b1aa92"
   },
   "outputs": [
    {
     "data": {
      "text/html": [
       "\n",
       "     <input type=\"file\" id=\"files-f7a391b1-09f2-4e28-8e36-11262445f570\" name=\"files[]\" multiple disabled />\n",
       "     <output id=\"result-f7a391b1-09f2-4e28-8e36-11262445f570\">\n",
       "      Upload widget is only available when the cell has been executed in the\n",
       "      current browser session. Please rerun this cell to enable.\n",
       "      </output>\n",
       "      <script src=\"/nbextensions/google.colab/files.js\"></script> "
      ],
      "text/plain": [
       "<IPython.core.display.HTML object>"
      ]
     },
     "metadata": {
      "tags": []
     },
     "output_type": "display_data"
    },
    {
     "name": "stdout",
     "output_type": "stream",
     "text": [
      "Saving preprocessed_data.csv to preprocessed_data.csv\n"
     ]
    }
   ],
   "source": [
    "from google.colab import files\n",
    "uploaded = files.upload()"
   ]
  },
  {
   "cell_type": "code",
   "execution_count": null,
   "metadata": {},
   "outputs": [],
   "source": []
  },
  {
   "cell_type": "code",
   "execution_count": 13,
   "metadata": {
    "colab": {
     "base_uri": "https://localhost:8080/",
     "height": 71
    },
    "colab_type": "code",
    "id": "aFHTiZ6XOrgj",
    "outputId": "8cc8822f-3e7b-421b-b399-d79ba76ebb8a"
   },
   "outputs": [],
   "source": [
    "import warnings\n",
    "warnings.filterwarnings('ignore')\n",
    "import pandas as pd\n",
    "import numpy as np\n",
    "import matplotlib.pyplot as plt\n",
    "import seaborn as sns\n",
    "import nltk\n",
    "import tqdm\n",
    "from nltk.stem import PorterStemmer\n",
    "from nltk.corpus import stopwords\n",
    "from nltk.tokenize import word_tokenize\n",
    "from sklearn.model_selection import train_test_split\n",
    "from sklearn.feature_extraction.text import CountVectorizer"
   ]
  },
  {
   "cell_type": "code",
   "execution_count": 105,
   "metadata": {
    "colab": {},
    "colab_type": "code",
    "id": "DdFjuDgJQmIz"
   },
   "outputs": [],
   "source": [
    "\n",
    "data = pd.read_csv('preprocessed_data.csv')\n",
    "y=data.project_is_approved\n",
    "data.drop(columns={\"project_is_approved\"},axis=0,inplace=True)\n",
    "X_train,X_test,y_train,y_test=train_test_split(data,y,test_size=0.2,stratify=y)\n",
    "X_train,X_cv,y_train,y_cv=train_test_split(X_train,y_train,test_size=0.2,stratify=y_train)"
   ]
  },
  {
   "cell_type": "code",
   "execution_count": 106,
   "metadata": {
    "colab": {
     "base_uri": "https://localhost:8080/",
     "height": 68
    },
    "colab_type": "code",
    "id": "WSxQxWQqkH1R",
    "outputId": "0cfa3f33-315a-4e38-a11e-432a87165693"
   },
   "outputs": [
    {
     "name": "stdout",
     "output_type": "stream",
     "text": [
      "No of datapoints in train: 69918   0.6399934094903339\n",
      "No of datapoints in test: 21850   0.20000366139425893\n",
      "No of datapoints in cv: 17480   0.16000292911540714\n"
     ]
    }
   ],
   "source": [
    "print(\"No of datapoints in train:\",len(X_train),\" \",len(X_train)/len((data)))\n",
    "print(\"No of datapoints in test:\",len(X_test),\" \",len(X_test)/len((data)))\n",
    "print(\"No of datapoints in cv:\",len(X_cv),\" \",len(X_cv)/len((data)))"
   ]
  },
  {
   "cell_type": "markdown",
   "metadata": {
    "colab_type": "text",
    "id": "pD7CWXLkkx5Q"
   },
   "source": [
    "### <h2>1.3 Make Data Model Ready: encoding eassay, and project_title</h2>**bold text**"
   ]
  },
  {
   "cell_type": "code",
   "execution_count": 107,
   "metadata": {
    "colab": {},
    "colab_type": "code",
    "id": "3agsxBm-kIPM"
   },
   "outputs": [],
   "source": [
    "vectorizer=CountVectorizer(lowercase=True,stop_words='english', ngram_range=(1, 1), analyzer='word', \n",
    "                           min_df=10, max_features=5000)\n",
    "vectorizer.fit(X_train['essay'].values)\n",
    "essay_train_bow=vectorizer.transform(X_train[\"essay\"].values)\n",
    "essay_test_bow=vectorizer.transform(X_test['essay'].values)\n",
    "essay_cv_bow=vectorizer.transform(X_cv[\"essay\"].values)\n"
   ]
  },
  {
   "cell_type": "code",
   "execution_count": 108,
   "metadata": {
    "colab": {
     "base_uri": "https://localhost:8080/",
     "height": 68
    },
    "colab_type": "code",
    "id": "dOv2VQDMkIR7",
    "outputId": "bc8e59da-b701-4619-f890-520c13de2474"
   },
   "outputs": [
    {
     "name": "stdout",
     "output_type": "stream",
     "text": [
      "(69918, 5000)\n",
      "(21850, 5000)\n",
      "(17480, 5000)\n"
     ]
    }
   ],
   "source": [
    "print(essay_train_bow.shape)\n",
    "print(essay_test_bow.shape)\n",
    "print(essay_cv_bow.shape)\n"
   ]
  },
  {
   "cell_type": "markdown",
   "metadata": {
    "colab_type": "text",
    "id": "1RTtBXPXmfHl"
   },
   "source": [
    "<h2>1.4 Make Data Model Ready: encoding numerical, categorical features</h2>"
   ]
  },
  {
   "cell_type": "code",
   "execution_count": 109,
   "metadata": {
    "colab": {},
    "colab_type": "code",
    "id": "7a0HecgNkIXv"
   },
   "outputs": [],
   "source": [
    "vectorizer=CountVectorizer()\n",
    "school_state=data.school_state\n",
    "vectorizer.fit(X_train['school_state'])\n",
    "train_school_bow=vectorizer.transform(X_train['school_state'])\n",
    "test_school_bow=vectorizer.transform(X_test['school_state'])\n",
    "cv_school_bow=vectorizer.transform(X_cv['school_state'])"
   ]
  },
  {
   "cell_type": "code",
   "execution_count": 110,
   "metadata": {
    "colab": {},
    "colab_type": "code",
    "id": "3tz1rhNrkIVu"
   },
   "outputs": [],
   "source": [
    "teacher_prefix=data.teacher_prefix\n",
    "vectorizer.fit(X_train['teacher_prefix'])\n",
    "train_teacher_bow=vectorizer.transform(X_train['teacher_prefix'])\n",
    "test_teacher_bow=vectorizer.transform(X_test['teacher_prefix'])\n",
    "cv_teacher_bow=vectorizer.transform(X_cv['teacher_prefix'])"
   ]
  },
  {
   "cell_type": "code",
   "execution_count": 111,
   "metadata": {
    "colab": {},
    "colab_type": "code",
    "id": "i7wWjhwFmoAV"
   },
   "outputs": [],
   "source": [
    "project_grade_category=data.project_grade_category\n",
    "vectorizer.fit(X_train['project_grade_category'])\n",
    "train_project_grade_category_bow=vectorizer.transform(X_train['project_grade_category'])\n",
    "test_project_grade_category_bow=vectorizer.transform(X_test['project_grade_category'])\n",
    "cv_project_grade_category_bow=vectorizer.transform(X_cv['project_grade_category'])"
   ]
  },
  {
   "cell_type": "code",
   "execution_count": 112,
   "metadata": {
    "colab": {},
    "colab_type": "code",
    "id": "cfcLC4UemoDg"
   },
   "outputs": [],
   "source": [
    "clean_categories=data.clean_categories\n",
    "vectorizer.fit(X_train['clean_categories'])\n",
    "train_clean_categories_bow=vectorizer.transform(X_train['clean_categories'])\n",
    "test_clean_categories_bow=vectorizer.transform(X_test['clean_categories'])\n",
    "cv_clean_categories_bow=vectorizer.transform(X_cv['clean_categories'])\n"
   ]
  },
  {
   "cell_type": "code",
   "execution_count": 113,
   "metadata": {
    "colab": {},
    "colab_type": "code",
    "id": "PTGusH4tmoNf"
   },
   "outputs": [],
   "source": [
    "clean_sub_categories=data.clean_subcategories\n",
    "vectorizer.fit(X_train['clean_subcategories'])\n",
    "train_clean_sub_categories_bow=vectorizer.transform(X_train['clean_subcategories'])\n",
    "test_clean_sub_categories_bow=vectorizer.transform(X_test['clean_subcategories'])\n",
    "cv_clean_sub_categories_bow=vectorizer.transform(X_cv['clean_subcategories'])\n"
   ]
  },
  {
   "cell_type": "code",
   "execution_count": 114,
   "metadata": {
    "colab": {},
    "colab_type": "code",
    "id": "touz5Sy_moSn"
   },
   "outputs": [],
   "source": [
    "from sklearn.preprocessing import Normalizer\n",
    "normalizer=Normalizer()\n",
    "normalizer.fit(X_train['price'].values.reshape(1,-1))\n",
    "X_train_price_norm = normalizer.transform(X_train['price'].values.reshape(1,-1))\n",
    "X_cv_price_norm = normalizer.transform(X_cv['price'].values.reshape(1,-1))\n",
    "X_test_price_norm = normalizer.transform(X_test['price'].values.reshape(1,-1))\n"
   ]
  },
  {
   "cell_type": "code",
   "execution_count": 115,
   "metadata": {
    "colab": {},
    "colab_type": "code",
    "id": "1tcDpd71moYI"
   },
   "outputs": [],
   "source": [
    "previously_posted_projects=data.teacher_number_of_previously_posted_projects\n",
    "X_train_previously_posted_projects = normalizer.transform(X_train['teacher_number_of_previously_posted_projects'].values.reshape(1,-1))\n",
    "X_cv_previously_posted_projects = normalizer.transform(X_cv['teacher_number_of_previously_posted_projects'].values.reshape(1,-1))\n",
    "X_test_previously_posted_projects = normalizer.transform(X_test['teacher_number_of_previously_posted_projects'].values.reshape(1,-1))"
   ]
  },
  {
   "cell_type": "code",
   "execution_count": 116,
   "metadata": {
    "colab": {},
    "colab_type": "code",
    "id": "ESzjPRP1modn"
   },
   "outputs": [],
   "source": [
    "from scipy.sparse import hstack\n",
    "X_train_price_norm=X_train_price_norm.reshape(-1,1)\n",
    "X_train_previously_posted_projects=X_train_previously_posted_projects.reshape(-1,1)\n",
    "X_test_price_norm=X_test_price_norm.reshape(-1,1)\n",
    "X_test_previously_posted_projects=X_test_previously_posted_projects.reshape(-1,1)\n",
    "X_cv_price_norm=X_cv_price_norm.reshape(-1,1)\n",
    "X_cv_previously_posted_projects=X_cv_previously_posted_projects.reshape(-1,1)"
   ]
  },
  {
   "cell_type": "code",
   "execution_count": 117,
   "metadata": {
    "colab": {},
    "colab_type": "code",
    "id": "Di6u7sq8mobs"
   },
   "outputs": [],
   "source": [
    "X_tr=hstack((essay_train_bow,train_school_bow,train_teacher_bow,train_project_grade_category_bow,\n",
    "            train_clean_categories_bow,train_clean_sub_categories_bow,X_train_price_norm,X_train_previously_posted_projects)).tocsr()\n",
    "X_te=hstack((essay_test_bow,test_school_bow,test_teacher_bow,test_project_grade_category_bow,\n",
    "            test_clean_categories_bow,test_clean_sub_categories_bow,X_test_price_norm,X_test_previously_posted_projects)).tocsr()\n",
    "X_cv=hstack((essay_cv_bow,cv_school_bow,cv_teacher_bow,cv_project_grade_category_bow,\n",
    "            cv_clean_categories_bow,cv_clean_sub_categories_bow,X_cv_price_norm,X_cv_previously_posted_projects)).tocsr()"
   ]
  },
  {
   "cell_type": "code",
   "execution_count": 118,
   "metadata": {
    "colab": {
     "base_uri": "https://localhost:8080/",
     "height": 153
    },
    "colab_type": "code",
    "id": "uWjeK1eNmoWc",
    "outputId": "18414299-befd-48fc-ae59-108a7a5d49c2"
   },
   "outputs": [
    {
     "name": "stdout",
     "output_type": "stream",
     "text": [
      "(69918, 1)\n",
      "(69918, 5000)\n",
      "(69918, 51)\n",
      "(69918, 5)\n",
      "(69918, 4)\n",
      "(69918, 9)\n",
      "(69918, 30)\n",
      "(69918, 1)\n"
     ]
    }
   ],
   "source": [
    "print(X_train_previously_posted_projects.shape)\n",
    "print(essay_train_bow.shape)\n",
    "print(train_school_bow.shape)\n",
    "print(train_teacher_bow.shape)\n",
    "print(train_project_grade_category_bow.shape)\n",
    "print(train_clean_categories_bow.shape)\n",
    "print(train_clean_sub_categories_bow.shape)\n",
    "print(X_train_price_norm.shape)"
   ]
  },
  {
   "cell_type": "code",
   "execution_count": 119,
   "metadata": {
    "colab": {
     "base_uri": "https://localhost:8080/",
     "height": 68
    },
    "colab_type": "code",
    "id": "TTl6FjBjmoQY",
    "outputId": "ae701888-ff2d-4eff-a96c-54fbdf221add"
   },
   "outputs": [
    {
     "name": "stdout",
     "output_type": "stream",
     "text": [
      "(69918, 5101)\n",
      "(21850, 5101)\n",
      "(17480, 5101)\n"
     ]
    }
   ],
   "source": [
    "print(X_tr.shape)\n",
    "print(X_te.shape)\n",
    "print(X_cv.shape)"
   ]
  },
  {
   "cell_type": "markdown",
   "metadata": {
    "colab_type": "text",
    "id": "UXvlYJt7nBkp"
   },
   "source": [
    "<h2>1.5 Appling NB on different kind of featurization as mentioned in the instructions</h2>\n",
    "\n",
    "<br>Apply NB on different kind of featurization as mentioned in the instructions\n",
    "<br> For Every model that you work on make sure you do the step 2 and step 3 of instrucations"
   ]
  },
  {
   "cell_type": "code",
   "execution_count": 120,
   "metadata": {
    "colab": {},
    "colab_type": "code",
    "id": "jgoToFI2moLD"
   },
   "outputs": [],
   "source": [
    "y_train=np.array(y_train)\n",
    "y_cv=np.array(y_cv)\n",
    "from tqdm import tqdm\n",
    "from sklearn.naive_bayes import MultinomialNB\n",
    "from sklearn.metrics import roc_auc_score\n",
    "parameter=np.array([10**-4,10**-3,10**-2,10**-1,10**0,10**1,10**2,10**3,10**4])\n"
   ]
  },
  {
   "cell_type": "code",
   "execution_count": 121,
   "metadata": {
    "colab": {
     "base_uri": "https://localhost:8080/",
     "height": 34
    },
    "colab_type": "code",
    "id": "-LCpjhnb8ZNT",
    "outputId": "d9c11e12-5a9c-40ea-efc6-fdea8bf9e002"
   },
   "outputs": [
    {
     "data": {
      "text/plain": [
       "(17480, 5101)"
      ]
     },
     "execution_count": 121,
     "metadata": {},
     "output_type": "execute_result"
    }
   ],
   "source": [
    "X_cv.shape"
   ]
  },
  {
   "cell_type": "code",
   "execution_count": 122,
   "metadata": {
    "colab": {
     "base_uri": "https://localhost:8080/",
     "height": 391
    },
    "colab_type": "code",
    "id": "pFguTjGImoIg",
    "outputId": "fd72dc69-f6cd-400c-c06f-f2c1fcacd41c"
   },
   "outputs": [
    {
     "name": "stderr",
     "output_type": "stream",
     "text": [
      "\n",
      "  0%|                                                                                            | 0/9 [00:00<?, ?it/s]\u001b[A\n",
      " 11%|█████████▎                                                                          | 1/9 [00:07<00:57,  7.20s/it]\u001b[A\n",
      " 22%|██████████████████▋                                                                 | 2/9 [00:13<00:49,  7.07s/it]\u001b[A\n",
      " 33%|████████████████████████████                                                        | 3/9 [00:21<00:42,  7.12s/it]\u001b[A\n",
      " 44%|█████████████████████████████████████▎                                              | 4/9 [00:28<00:35,  7.16s/it]\u001b[A\n",
      " 56%|██████████████████████████████████████████████▋                                     | 5/9 [00:35<00:28,  7.16s/it]\u001b[A\n",
      " 67%|████████████████████████████████████████████████████████                            | 6/9 [00:42<00:21,  7.12s/it]\u001b[A\n",
      " 78%|█████████████████████████████████████████████████████████████████▎                  | 7/9 [00:49<00:14,  7.12s/it]\u001b[A\n",
      " 89%|██████████████████████████████████████████████████████████████████████████▋         | 8/9 [00:56<00:07,  7.10s/it]\u001b[A\n",
      "100%|████████████████████████████████████████████████████████████████████████████████████| 9/9 [01:03<00:00,  7.08s/it]\u001b[A\n"
     ]
    }
   ],
   "source": [
    "train_acc=list()\n",
    "cv_acc=list()\n",
    "for i in tqdm(range((len(parameter)))):\n",
    "    clf=MultinomialNB(alpha=parameter[i])\n",
    "    clf.fit(X_tr.toarray(),y_train)\n",
    "    cv_pred=clf.predict_proba(X_cv.toarray())\n",
    "    train_pred=clf.predict_proba(X_tr.toarray())\n",
    "    t=roc_auc_score(y_cv,cv_pred[:,1])\n",
    "    cv_acc.append(t)\n",
    "    train_acc.append(roc_auc_score(y_train,train_pred[:,1]))\n",
    "    \n",
    "    "
   ]
  },
  {
   "cell_type": "code",
   "execution_count": 123,
   "metadata": {},
   "outputs": [
    {
     "name": "stdout",
     "output_type": "stream",
     "text": [
      "[1.e-04 1.e-03 1.e-02 1.e-01 1.e+00 1.e+01 1.e+02 1.e+03 1.e+04]\n",
      "[-4.0, -3.0, -2.0, -1.0, 0.0, 1.0, 2.0, 3.0, 4.0]\n"
     ]
    }
   ],
   "source": [
    "import math as mt\n",
    "log_alpha=[]\n",
    "for i in parameter:\n",
    "     log_alpha.append(mt.log10(i))\n",
    "print(parameter)\n",
    "print(log_alpha)"
   ]
  },
  {
   "cell_type": "code",
   "execution_count": 124,
   "metadata": {
    "colab": {
     "base_uri": "https://localhost:8080/",
     "height": 71
    },
    "colab_type": "code",
    "id": "r1YQlAjQmoGq",
    "outputId": "a59d5448-68f1-4911-913c-993975aea8b0"
   },
   "outputs": [
    {
     "name": "stdout",
     "output_type": "stream",
     "text": [
      "[0.736959914991324, 0.7369581335336627, 0.7369409971527292, 0.7367672509024727, 0.7349908359286617, 0.7150883280538587, 0.6131009961346078, 0.5021876920962391, 0.5015690224170846]\n",
      "[0.7099560601035821, 0.7099547866384267, 0.7099445989171828, 0.709858512672672, 0.708935581535886, 0.6946914407936378, 0.6045052115415369, 0.5015821658438256, 0.5014709796011003]\n"
     ]
    }
   ],
   "source": [
    "print(train_acc)\n",
    "print(cv_acc)"
   ]
  },
  {
   "cell_type": "code",
   "execution_count": 125,
   "metadata": {
    "colab": {
     "base_uri": "https://localhost:8080/",
     "height": 296
    },
    "colab_type": "code",
    "id": "88Yur88EnbZx",
    "outputId": "515c080b-96ba-4b59-8ff2-43c9a798043c"
   },
   "outputs": [
    {
     "data": {
      "text/plain": [
       "<matplotlib.legend.Legend at 0x24142d66550>"
      ]
     },
     "execution_count": 125,
     "metadata": {},
     "output_type": "execute_result"
    },
    {
     "data": {
      "image/png": "[encoded data removed]",
      "text/plain": [
       "<Figure size 432x288 with 1 Axes>"
      ]
     },
     "metadata": {},
     "output_type": "display_data"
    }
   ],
   "source": [
    "plt.plot(log_alpha,train_acc,label=\"Train\")\n",
    "plt.plot(log_alpha,cv_acc,label=\"CV\")\n",
    "plt.scatter(log_alpha, train_acc, label='Train AUC points')\n",
    "plt.scatter(log_alpha, cv_acc, label='CV AUC points')\n",
    "plt.xlabel(\"log(parameter)\")\n",
    "plt.ylabel(\"Accuracy\")\n",
    "plt.legend()"
   ]
  },
  {
   "cell_type": "code",
   "execution_count": 126,
   "metadata": {
    "colab": {
     "base_uri": "https://localhost:8080/",
     "height": 51
    },
    "colab_type": "code",
    "id": "dXNfyR_QnbhY",
    "outputId": "5d0d4025-9e3b-4827-b745-9d7f353737ff"
   },
   "outputs": [
    {
     "name": "stdout",
     "output_type": "stream",
     "text": [
      "Maximum Accuracy = 0.7099560601035821\n",
      "Alpha Value = 0.0001\n"
     ]
    }
   ],
   "source": [
    "index=cv_acc.index(max(cv_acc))\n",
    "print(\"Maximum Accuracy =\" ,cv_acc[index])\n",
    "print(\"Alpha Value =\",parameter[index])\n",
    "alpha=parameter[index]"
   ]
  },
  {
   "cell_type": "code",
   "execution_count": 127,
   "metadata": {},
   "outputs": [
    {
     "name": "stdout",
     "output_type": "stream",
     "text": [
      "Train AUC at  0.0001  value is equal to  0.736959914991324\n",
      "CV AUC at  0.0001  value is equal to  0.7099560601035821\n"
     ]
    }
   ],
   "source": [
    "print(\"Train AUC at \",alpha,\" value is equal to \",train_acc[index])\n",
    "print(\"CV AUC at \",alpha,\" value is equal to \",cv_acc[index])"
   ]
  },
  {
   "cell_type": "code",
   "execution_count": 128,
   "metadata": {
    "colab": {
     "base_uri": "https://localhost:8080/",
     "height": 34
    },
    "colab_type": "code",
    "id": "4yc4FX3wnbtH",
    "outputId": "92f639c4-7d58-44ea-a9a4-6add4da00f4d"
   },
   "outputs": [
    {
     "data": {
      "text/plain": [
       "MultinomialNB(alpha=1, class_prior=None, fit_prior=True)"
      ]
     },
     "execution_count": 128,
     "metadata": {},
     "output_type": "execute_result"
    }
   ],
   "source": [
    "clf=MultinomialNB(alpha=1)\n",
    "clf.fit(X_tr.toarray(),y_train)"
   ]
  },
  {
   "cell_type": "code",
   "execution_count": 129,
   "metadata": {
    "colab": {},
    "colab_type": "code",
    "id": "kdiKwgaknbzF"
   },
   "outputs": [],
   "source": [
    "test_predict=clf.predict_proba(X_te)\n",
    "test_predict=np.array(test_predict)\n",
    "train_predict=clf.predict_proba(X_tr)\n",
    "train_predict=np.array(train_predict)"
   ]
  },
  {
   "cell_type": "code",
   "execution_count": 130,
   "metadata": {
    "colab": {
     "base_uri": "https://localhost:8080/",
     "height": 34
    },
    "colab_type": "code",
    "id": "7yVTKG2nnb5E",
    "outputId": "0c284b2c-5708-41d8-cd72-7e43819b0090"
   },
   "outputs": [
    {
     "name": "stdout",
     "output_type": "stream",
     "text": [
      "0.7040856181665155\n"
     ]
    }
   ],
   "source": [
    "print(roc_auc_score(y_test,test_predict[:,1]))"
   ]
  },
  {
   "cell_type": "code",
   "execution_count": 131,
   "metadata": {
    "colab": {},
    "colab_type": "code",
    "id": "veD_lJSAnb-X"
   },
   "outputs": [],
   "source": [
    "from sklearn.metrics import roc_curve,auc"
   ]
  },
  {
   "cell_type": "code",
   "execution_count": 132,
   "metadata": {
    "colab": {
     "base_uri": "https://localhost:8080/",
     "height": 295
    },
    "colab_type": "code",
    "id": "_00sibM8nb3W",
    "outputId": "abf970a2-332a-437d-9909-d1b12c8d5ded"
   },
   "outputs": [
    {
     "data": {
      "image/png": "[encoded data removed]",
      "text/plain": [
       "<Figure size 432x288 with 1 Axes>"
      ]
     },
     "metadata": {},
     "output_type": "display_data"
    }
   ],
   "source": [
    "train_fpr, train_tpr, tr_thresholds = roc_curve(y_train, train_predict[:,1])\n",
    "test_fpr, test_tpr, te_thresholds = roc_curve(y_test, test_predict[:,1])\n",
    "\n",
    "plt.plot(train_fpr, train_tpr, label=\"train AUC =\"+str(auc(train_fpr, train_tpr)))\n",
    "plt.plot(test_fpr, test_tpr, label=\"test AUC =\"+str(auc(test_fpr, test_tpr)))\n",
    "plt.legend()\n",
    "plt.xlabel(\"FPR\")\n",
    "plt.ylabel(\"TPR\")\n",
    "plt.title(\"AUC\")\n",
    "plt.grid()\n",
    "plt.show()"
   ]
  },
  {
   "cell_type": "code",
   "execution_count": 133,
   "metadata": {},
   "outputs": [],
   "source": [
    "def find_best_threshold(threshould, fpr, tpr):\n",
    "    t = threshould[np.argmax(tpr*(1-fpr))]\n",
    "    # (tpr*(1-fpr)) will be maximum if your fpr is very low and tpr is very high\n",
    "    print(\"the maximum value of tpr*(1-fpr)\", max(tpr*(1-fpr)), \"for threshold\", np.round(t,3))\n",
    "    return t\n",
    "\n",
    "def predict_with_best_t(proba, threshould):\n",
    "    predictions = []\n",
    "    for i in proba:\n",
    "        if i>=threshould:\n",
    "            predictions.append(1)\n",
    "        else:\n",
    "            predictions.append(0)\n",
    "    return predictions"
   ]
  },
  {
   "cell_type": "code",
   "execution_count": 134,
   "metadata": {},
   "outputs": [
    {
     "name": "stdout",
     "output_type": "stream",
     "text": [
      "====================================================================================================\n",
      "the maximum value of tpr*(1-fpr) 0.460510377876829 for threshold 0.865\n",
      "Train confusion matrix\n",
      "[[ 7392  3195]\n",
      " [20199 39132]]\n",
      "Test confusion matrix\n",
      "[[ 2186  1122]\n",
      " [ 6479 12063]]\n"
     ]
    }
   ],
   "source": [
    "print(\"=\"*100)\n",
    "from sklearn.metrics import confusion_matrix\n",
    "best_t = find_best_threshold(tr_thresholds, train_fpr, train_tpr)\n",
    "print(\"Train confusion matrix\")\n",
    "print(confusion_matrix(y_train, predict_with_best_t(train_predict[:,1], best_t)))\n",
    "print(\"Test confusion matrix\")\n",
    "print(confusion_matrix(y_test, predict_with_best_t(test_predict[:,1], best_t)))"
   ]
  },
  {
   "cell_type": "code",
   "execution_count": 135,
   "metadata": {
    "colab": {
     "base_uri": "https://localhost:8080/",
     "height": 34
    },
    "colab_type": "code",
    "id": "GscPa8EwnbxR",
    "outputId": "798e2ec6-fab0-4d78-9a7c-8457849fb5b2"
   },
   "outputs": [
    {
     "data": {
      "text/plain": [
       "['Multinomialalgo.sav']"
      ]
     },
     "execution_count": 135,
     "metadata": {},
     "output_type": "execute_result"
    }
   ],
   "source": [
    "import pickle\n",
    "import joblib\n",
    "filename=\"Multinomialalgo.sav\"\n",
    "joblib.dump(clf,filename)"
   ]
  },
  {
   "cell_type": "code",
   "execution_count": 0,
   "metadata": {
    "colab": {},
    "colab_type": "code",
    "id": "gCmnwp0Dnbqk"
   },
   "outputs": [],
   "source": []
  },
  {
   "cell_type": "code",
   "execution_count": 0,
   "metadata": {
    "colab": {},
    "colab_type": "code",
    "id": "MbrLNjtUqUgz"
   },
   "outputs": [],
   "source": []
  },
  {
   "cell_type": "markdown",
   "metadata": {
    "colab_type": "text",
    "id": "dFxiVlraoCdD"
   },
   "source": [
    "# USING TF-IDF"
   ]
  },
  {
   "cell_type": "code",
   "execution_count": 75,
   "metadata": {
    "colab": {},
    "colab_type": "code",
    "id": "0-zr65Uk-8W1"
   },
   "outputs": [],
   "source": [
    "\n",
    "data = pd.read_csv('preprocessed_data.csv')\n",
    "y=data.project_is_approved\n",
    "data.drop(columns={\"project_is_approved\"},axis=0,inplace=True)\n",
    "X_train,X_test,y_train,y_test=train_test_split(data,y,test_size=0.2,stratify=y)\n",
    "X_train,X_cv,y_train,y_cv=train_test_split(X_train,y_train,test_size=0.2,stratify=y_train)"
   ]
  },
  {
   "cell_type": "code",
   "execution_count": 76,
   "metadata": {
    "colab": {},
    "colab_type": "code",
    "id": "mwboKQjknbnh"
   },
   "outputs": [],
   "source": [
    "from sklearn.feature_extraction.text import TfidfVectorizer\n",
    "vectorizer = TfidfVectorizer( lowercase=True,ngram_range=(1, 1),analyzer='word', stop_words='english', \n",
    "                             norm='l2', min_df=10, max_features=5000)\n",
    "vectorizer.fit(X_train.essay)\n",
    "essay_train=vectorizer.transform(X_train.essay)\n",
    "essay_test=vectorizer.transform(X_test.essay)\n",
    "essay_cv=vectorizer.transform(X_cv.essay)\n"
   ]
  },
  {
   "cell_type": "code",
   "execution_count": 77,
   "metadata": {
    "colab": {
     "base_uri": "https://localhost:8080/",
     "height": 68
    },
    "colab_type": "code",
    "id": "PJBloV3VoG0-",
    "outputId": "4f43137d-5cee-4b4e-b3e5-ce783863d309"
   },
   "outputs": [
    {
     "name": "stdout",
     "output_type": "stream",
     "text": [
      "Shape of matrix after one hot encodig  (69918, 5000)\n",
      "Shape of matrix after one hot encodig  (21850, 5000)\n",
      "Shape of matrix after one hot encodig  (17480, 5000)\n"
     ]
    }
   ],
   "source": [
    "print(\"Shape of matrix after one hot encodig \",essay_train.shape)\n",
    "print(\"Shape of matrix after one hot encodig \",essay_test.shape)\n",
    "print(\"Shape of matrix after one hot encodig \",essay_cv.shape)"
   ]
  },
  {
   "cell_type": "code",
   "execution_count": 78,
   "metadata": {
    "colab": {},
    "colab_type": "code",
    "id": "eQ8E-7PgoHAC"
   },
   "outputs": [],
   "source": [
    "vectorizer=TfidfVectorizer()\n",
    "school_state=data.school_state\n",
    "vectorizer.fit(X_train['school_state'])\n",
    "train_school_bow=vectorizer.transform(X_train['school_state'])\n",
    "test_school_bow=vectorizer.transform(X_test['school_state'])\n",
    "cv_school_bow=vectorizer.transform(X_cv['school_state'])"
   ]
  },
  {
   "cell_type": "code",
   "execution_count": 79,
   "metadata": {
    "colab": {},
    "colab_type": "code",
    "id": "QjB1CmlUoHF0"
   },
   "outputs": [],
   "source": [
    "teacher_prefix=data.teacher_prefix\n",
    "vectorizer.fit(X_train['teacher_prefix'])\n",
    "train_teacher_bow=vectorizer.transform(X_train['teacher_prefix'])\n",
    "test_teacher_bow=vectorizer.transform(X_test['teacher_prefix'])\n",
    "cv_teacher_bow=vectorizer.transform(X_cv['teacher_prefix'])"
   ]
  },
  {
   "cell_type": "code",
   "execution_count": 80,
   "metadata": {
    "colab": {},
    "colab_type": "code",
    "id": "HKeq_UiqoHZz"
   },
   "outputs": [],
   "source": [
    "project_grade_category=data.project_grade_category\n",
    "vectorizer.fit(X_train['project_grade_category'])\n",
    "train_project_grade_category_bow=vectorizer.transform(X_train['project_grade_category'])\n",
    "test_project_grade_category_bow=vectorizer.transform(X_test['project_grade_category'])\n",
    "cv_project_grade_category_bow=vectorizer.transform(X_cv['project_grade_category'])"
   ]
  },
  {
   "cell_type": "code",
   "execution_count": 81,
   "metadata": {
    "colab": {},
    "colab_type": "code",
    "id": "vNCTT_umoHWf"
   },
   "outputs": [],
   "source": [
    "clean_categories=data.clean_categories\n",
    "vectorizer.fit(X_train['clean_categories'])\n",
    "train_clean_categories_bow=vectorizer.transform(X_train['clean_categories'])\n",
    "test_clean_categories_bow=vectorizer.transform(X_test['clean_categories'])\n",
    "cv_clean_categories_bow=vectorizer.transform(X_cv['clean_categories'])\n"
   ]
  },
  {
   "cell_type": "code",
   "execution_count": 82,
   "metadata": {
    "colab": {},
    "colab_type": "code",
    "id": "lV3s2Tz6oHTF"
   },
   "outputs": [],
   "source": [
    "clean_sub_categories=data.clean_subcategories\n",
    "vectorizer.fit(X_train['clean_subcategories'])\n",
    "train_clean_sub_categories_bow=vectorizer.transform(X_train['clean_subcategories'])\n",
    "test_clean_sub_categories_bow=vectorizer.transform(X_test['clean_subcategories'])\n",
    "cv_clean_sub_categories_bow=vectorizer.transform(X_cv['clean_subcategories'])\n"
   ]
  },
  {
   "cell_type": "code",
   "execution_count": 83,
   "metadata": {
    "colab": {},
    "colab_type": "code",
    "id": "2Rgf560koHRJ"
   },
   "outputs": [],
   "source": [
    "from sklearn.preprocessing import Normalizer\n",
    "normalizer=Normalizer()\n",
    "normalizer.fit(X_train['price'].values.reshape(1,-1))\n",
    "X_train_price_norm = normalizer.transform(X_train['price'].values.reshape(1,-1))\n",
    "X_cv_price_norm = normalizer.transform(X_cv['price'].values.reshape(1,-1))\n",
    "X_test_price_norm = normalizer.transform(X_test['price'].values.reshape(1,-1))\n"
   ]
  },
  {
   "cell_type": "code",
   "execution_count": 84,
   "metadata": {
    "colab": {},
    "colab_type": "code",
    "id": "rGV7bBd5oHPL"
   },
   "outputs": [],
   "source": [
    "previously_posted_projects=data.teacher_number_of_previously_posted_projects\n",
    "X_train_previously_posted_projects = normalizer.transform(X_train['teacher_number_of_previously_posted_projects'].values.reshape(1,-1))\n",
    "X_cv_previously_posted_projects = normalizer.transform(X_cv['teacher_number_of_previously_posted_projects'].values.reshape(1,-1))\n",
    "X_test_previously_posted_projects = normalizer.transform(X_test['teacher_number_of_previously_posted_projects'].values.reshape(1,-1))"
   ]
  },
  {
   "cell_type": "code",
   "execution_count": 85,
   "metadata": {
    "colab": {},
    "colab_type": "code",
    "id": "zz_jhqFxoHNI"
   },
   "outputs": [],
   "source": [
    "from scipy.sparse import hstack\n",
    "X_train_price_norm=X_train_price_norm.reshape(-1,1)\n",
    "X_train_previously_posted_projects=X_train_previously_posted_projects.reshape(-1,1)\n",
    "X_test_price_norm=X_test_price_norm.reshape(-1,1)\n",
    "X_test_previously_posted_projects=X_test_previously_posted_projects.reshape(-1,1)\n",
    "X_cv_price_norm=X_cv_price_norm.reshape(-1,1)\n",
    "X_cv_previously_posted_projects=X_cv_previously_posted_projects.reshape(-1,1)"
   ]
  },
  {
   "cell_type": "code",
   "execution_count": 86,
   "metadata": {
    "colab": {},
    "colab_type": "code",
    "id": "JIsg2rhQoHKK"
   },
   "outputs": [],
   "source": [
    "X_tr=hstack((essay_train,train_school_bow,train_teacher_bow,train_project_grade_category_bow,\n",
    "            train_clean_categories_bow,train_clean_sub_categories_bow,X_train_price_norm,X_train_previously_posted_projects)).tocsr()\n",
    "X_te=hstack((essay_test,test_school_bow,test_teacher_bow,test_project_grade_category_bow,\n",
    "            test_clean_categories_bow,test_clean_sub_categories_bow,X_test_price_norm,X_test_previously_posted_projects)).tocsr()\n",
    "X_cv=hstack((essay_cv,cv_school_bow,cv_teacher_bow,cv_project_grade_category_bow,\n",
    "            cv_clean_categories_bow,cv_clean_sub_categories_bow,X_cv_price_norm,X_cv_previously_posted_projects)).tocsr()"
   ]
  },
  {
   "cell_type": "code",
   "execution_count": 87,
   "metadata": {
    "colab": {
     "base_uri": "https://localhost:8080/",
     "height": 153
    },
    "colab_type": "code",
    "id": "u7uB5QDLoHDy",
    "outputId": "53b3cef3-2945-40c5-e940-eb81026d64cb"
   },
   "outputs": [
    {
     "name": "stdout",
     "output_type": "stream",
     "text": [
      "(69918, 1)\n",
      "(69918, 5000)\n",
      "(69918, 51)\n",
      "(69918, 5)\n",
      "(69918, 4)\n",
      "(69918, 9)\n",
      "(69918, 30)\n",
      "(69918, 1)\n"
     ]
    }
   ],
   "source": [
    "print(X_train_previously_posted_projects.shape)\n",
    "print(essay_train.shape)\n",
    "print(train_school_bow.shape)\n",
    "print(train_teacher_bow.shape)\n",
    "print(train_project_grade_category_bow.shape)\n",
    "print(train_clean_categories_bow.shape)\n",
    "print(train_clean_sub_categories_bow.shape)\n",
    "print(X_train_price_norm.shape)"
   ]
  },
  {
   "cell_type": "code",
   "execution_count": 88,
   "metadata": {
    "colab": {},
    "colab_type": "code",
    "id": "4JELDmbjoG92"
   },
   "outputs": [],
   "source": [
    "y_train=np.array(y_train)\n",
    "y_cv=np.array(y_cv)\n",
    "from tqdm import tqdm\n",
    "from sklearn.naive_bayes import MultinomialNB\n",
    "from sklearn.metrics import roc_auc_score\n",
    "parameter=np.array([10**-4,10**-3,10**-2,10**-1,10**0,10**1,10**2,10**3,10**4])\n"
   ]
  },
  {
   "cell_type": "code",
   "execution_count": 89,
   "metadata": {
    "colab": {
     "base_uri": "https://localhost:8080/",
     "height": 782
    },
    "colab_type": "code",
    "id": "947raw5coG6n",
    "outputId": "1a92ebf0-4b56-458b-fdb9-76f906e367ad"
   },
   "outputs": [
    {
     "name": "stderr",
     "output_type": "stream",
     "text": [
      "\n",
      "  0%|                                                                                            | 0/9 [00:00<?, ?it/s]\u001b[A\n",
      " 11%|█████████▎                                                                          | 1/9 [00:07<01:00,  7.58s/it]\u001b[A"
     ]
    },
    {
     "name": "stdout",
     "output_type": "stream",
     "text": [
      "0.6807388981026923\n"
     ]
    },
    {
     "name": "stderr",
     "output_type": "stream",
     "text": [
      "\n",
      " 22%|██████████████████▋                                                                 | 2/9 [00:14<00:51,  7.37s/it]\u001b[A"
     ]
    },
    {
     "name": "stdout",
     "output_type": "stream",
     "text": [
      "0.6807324798383086\n"
     ]
    },
    {
     "name": "stderr",
     "output_type": "stream",
     "text": [
      "\n",
      " 33%|████████████████████████████                                                        | 3/9 [00:21<00:43,  7.22s/it]\u001b[A"
     ]
    },
    {
     "name": "stdout",
     "output_type": "stream",
     "text": [
      "0.6806537032837904\n"
     ]
    },
    {
     "name": "stderr",
     "output_type": "stream",
     "text": [
      "\n",
      " 44%|█████████████████████████████████████▎                                              | 4/9 [00:28<00:35,  7.12s/it]\u001b[A"
     ]
    },
    {
     "name": "stdout",
     "output_type": "stream",
     "text": [
      "0.679835603798604\n"
     ]
    },
    {
     "name": "stderr",
     "output_type": "stream",
     "text": [
      "\n",
      " 56%|██████████████████████████████████████████████▋                                     | 5/9 [00:35<00:28,  7.05s/it]\u001b[A"
     ]
    },
    {
     "name": "stdout",
     "output_type": "stream",
     "text": [
      "0.6697707464729281\n"
     ]
    },
    {
     "name": "stderr",
     "output_type": "stream",
     "text": [
      "\n",
      " 67%|████████████████████████████████████████████████████████                            | 6/9 [00:41<00:20,  6.99s/it]\u001b[A"
     ]
    },
    {
     "name": "stdout",
     "output_type": "stream",
     "text": [
      "0.5974734553192398\n"
     ]
    },
    {
     "name": "stderr",
     "output_type": "stream",
     "text": [
      "\n",
      " 78%|█████████████████████████████████████████████████████████████████▎                  | 7/9 [00:49<00:14,  7.00s/it]\u001b[A"
     ]
    },
    {
     "name": "stdout",
     "output_type": "stream",
     "text": [
      "0.5310806872361682\n"
     ]
    },
    {
     "name": "stderr",
     "output_type": "stream",
     "text": [
      "\n",
      " 89%|██████████████████████████████████████████████████████████████████████████▋         | 8/9 [00:56<00:07,  7.03s/it]\u001b[A"
     ]
    },
    {
     "name": "stdout",
     "output_type": "stream",
     "text": [
      "0.5183313653627308\n"
     ]
    },
    {
     "name": "stderr",
     "output_type": "stream",
     "text": [
      "\n",
      "100%|████████████████████████████████████████████████████████████████████████████████████| 9/9 [01:03<00:00,  7.01s/it]\u001b[A"
     ]
    },
    {
     "name": "stdout",
     "output_type": "stream",
     "text": [
      "0.5194275386992689\n"
     ]
    },
    {
     "name": "stderr",
     "output_type": "stream",
     "text": [
      "\n"
     ]
    }
   ],
   "source": [
    "train_acc=list()\n",
    "cv_acc=list()\n",
    "for i in tqdm(range((len(parameter)))):\n",
    "    clf=MultinomialNB(alpha=parameter[i])\n",
    "    clf.fit(X_tr.toarray(),y_train)\n",
    "    cv_pred=clf.predict_proba(X_cv.toarray())\n",
    "    train_pred=clf.predict_proba(X_tr.toarray())\n",
    "    t=roc_auc_score(y_cv,cv_pred[:,1])\n",
    "    print(t)\n",
    "    cv_acc.append(t)\n",
    "    train_acc.append(roc_auc_score(y_train,train_pred[:,1]))\n",
    "    \n",
    "    "
   ]
  },
  {
   "cell_type": "code",
   "execution_count": 90,
   "metadata": {
    "colab": {
     "base_uri": "https://localhost:8080/",
     "height": 71
    },
    "colab_type": "code",
    "id": "3WJo2-kdoG4w",
    "outputId": "0fa58806-edf9-41e9-8a31-e39389e40ea9"
   },
   "outputs": [
    {
     "name": "stdout",
     "output_type": "stream",
     "text": [
      "[0.7194863514051134, 0.7194700763008505, 0.7193019363089979, 0.7176223003360362, 0.7004977066343507, 0.6057288905103815, 0.53289278092334, 0.527251288184532, 0.5299379762829144]\n",
      "[0.6807388981026923, 0.6807324798383086, 0.6806537032837904, 0.679835603798604, 0.6697707464729281, 0.5974734553192398, 0.5310806872361682, 0.5183313653627308, 0.5194275386992689]\n"
     ]
    }
   ],
   "source": [
    "print(train_acc)\n",
    "print(cv_acc)"
   ]
  },
  {
   "cell_type": "code",
   "execution_count": 91,
   "metadata": {},
   "outputs": [],
   "source": [
    "import math as mt\n",
    "log_alpha=[]\n",
    "for i in parameter:\n",
    "    log_alpha.append(mt.log(i))"
   ]
  },
  {
   "cell_type": "code",
   "execution_count": 92,
   "metadata": {},
   "outputs": [
    {
     "data": {
      "text/plain": [
       "array([1.e-04, 1.e-03, 1.e-02, 1.e-01, 1.e+00, 1.e+01, 1.e+02, 1.e+03,\n",
       "       1.e+04])"
      ]
     },
     "execution_count": 92,
     "metadata": {},
     "output_type": "execute_result"
    }
   ],
   "source": [
    "parameter\n"
   ]
  },
  {
   "cell_type": "code",
   "execution_count": 93,
   "metadata": {
    "colab": {
     "base_uri": "https://localhost:8080/",
     "height": 296
    },
    "colab_type": "code",
    "id": "QniBl1hFqqci",
    "outputId": "153dd078-ee6e-4bfa-cb9c-efd36739df64"
   },
   "outputs": [
    {
     "data": {
      "text/plain": [
       "<matplotlib.legend.Legend at 0x2413a88d668>"
      ]
     },
     "execution_count": 93,
     "metadata": {},
     "output_type": "execute_result"
    },
    {
     "data": {
      "image/png": "[encoded data removed]",
      "text/plain": [
       "<Figure size 432x288 with 1 Axes>"
      ]
     },
     "metadata": {},
     "output_type": "display_data"
    }
   ],
   "source": [
    "plt.plot(log_alpha,train_acc,label=\"Train\")\n",
    "plt.plot(log_alpha,cv_acc,label=\"CV\")\n",
    "plt.scatter(log_alpha, train_acc, label='Train AUC points')\n",
    "plt.scatter(log_alpha, cv_acc, label='CV AUC points')\n",
    "plt.xlabel(\"parameter\")\n",
    "plt.ylabel(\"Accuracy\")\n",
    "plt.legend()"
   ]
  },
  {
   "cell_type": "code",
   "execution_count": 94,
   "metadata": {
    "colab": {
     "base_uri": "https://localhost:8080/",
     "height": 51
    },
    "colab_type": "code",
    "id": "V8R1NzQcqqgV",
    "outputId": "e584bcc2-4e24-4434-df41-b7a74555c975"
   },
   "outputs": [
    {
     "name": "stdout",
     "output_type": "stream",
     "text": [
      "Maximum Accuracy = 0.6807388981026923\n",
      "Alpha Value = 0.0001\n"
     ]
    }
   ],
   "source": [
    "index=cv_acc.index(max(cv_acc))\n",
    "print(\"Maximum Accuracy =\" ,cv_acc[index])\n",
    "print(\"Alpha Value =\",parameter[index])"
   ]
  },
  {
   "cell_type": "code",
   "execution_count": 95,
   "metadata": {
    "colab": {
     "base_uri": "https://localhost:8080/",
     "height": 34
    },
    "colab_type": "code",
    "id": "FY7uHabEqqsx",
    "outputId": "360ebf44-a5b5-41bf-e428-dc0f02a178e8"
   },
   "outputs": [
    {
     "data": {
      "text/plain": [
       "MultinomialNB(alpha=0.0001, class_prior=None, fit_prior=True)"
      ]
     },
     "execution_count": 95,
     "metadata": {},
     "output_type": "execute_result"
    }
   ],
   "source": [
    "clf=MultinomialNB(alpha=parameter[index])\n",
    "clf.fit(X_tr.toarray(),y_train)"
   ]
  },
  {
   "cell_type": "code",
   "execution_count": 96,
   "metadata": {
    "colab": {},
    "colab_type": "code",
    "id": "yZEiFM2fqq4H"
   },
   "outputs": [],
   "source": [
    "test_predict=clf.predict_proba(X_te)\n",
    "test_predict=np.array(test_predict)\n",
    "train_predict=clf.predict_proba(X_tr)\n",
    "train_predict=np.array(train_predict)"
   ]
  },
  {
   "cell_type": "code",
   "execution_count": 97,
   "metadata": {
    "colab": {
     "base_uri": "https://localhost:8080/",
     "height": 34
    },
    "colab_type": "code",
    "id": "7DmCj_oxqrGa",
    "outputId": "74d92bf9-2647-43bf-ce7d-1c8f5c1379c9"
   },
   "outputs": [
    {
     "name": "stdout",
     "output_type": "stream",
     "text": [
      "0.6844840766092393\n"
     ]
    }
   ],
   "source": [
    "print(roc_auc_score(y_test,test_predict[:,1]))"
   ]
  },
  {
   "cell_type": "code",
   "execution_count": 98,
   "metadata": {
    "colab": {},
    "colab_type": "code",
    "id": "LEI0YdxjqrNK"
   },
   "outputs": [],
   "source": [
    "from sklearn.metrics import roc_curve,auc"
   ]
  },
  {
   "cell_type": "code",
   "execution_count": 99,
   "metadata": {
    "colab": {
     "base_uri": "https://localhost:8080/",
     "height": 295
    },
    "colab_type": "code",
    "id": "9bkf6IHbqrb2",
    "outputId": "698ae78a-ea6b-4cdb-c706-1ce145437290"
   },
   "outputs": [
    {
     "data": {
      "image/png": "[encoded data removed]",
      "text/plain": [
       "<Figure size 432x288 with 1 Axes>"
      ]
     },
     "metadata": {},
     "output_type": "display_data"
    }
   ],
   "source": [
    "train_fpr, train_tpr, tr_thresholds = roc_curve(y_train, train_predict[:,1])\n",
    "test_fpr, test_tpr, te_thresholds = roc_curve(y_test, test_predict[:,1])\n",
    "\n",
    "plt.plot(train_fpr, train_tpr, label=\"train AUC =\"+str(auc(train_fpr, train_tpr)))\n",
    "plt.plot(test_fpr, test_tpr, label=\"test AUC =\"+str(auc(test_fpr, test_tpr)))\n",
    "plt.legend()\n",
    "plt.xlabel(\"K: hyperparameter\")\n",
    "plt.ylabel(\"AUC\")\n",
    "plt.title(\"ERROR PLOTS\")\n",
    "plt.grid()\n",
    "plt.show()"
   ]
  },
  {
   "cell_type": "code",
   "execution_count": 100,
   "metadata": {
    "colab": {
     "base_uri": "https://localhost:8080/",
     "height": 34
    },
    "colab_type": "code",
    "id": "hJwLZHnfqroY",
    "outputId": "3fb176b7-391d-4325-93b8-b2552f8f3a6c"
   },
   "outputs": [
    {
     "data": {
      "text/plain": [
       "['Multinomialtfidf.sav']"
      ]
     },
     "execution_count": 100,
     "metadata": {},
     "output_type": "execute_result"
    }
   ],
   "source": [
    "import pickle\n",
    "import joblib\n",
    "filename=\"Multinomialtfidf.sav\"\n",
    "joblib.dump(clf,filename)"
   ]
  },
  {
   "cell_type": "code",
   "execution_count": 101,
   "metadata": {
    "colab": {},
    "colab_type": "code",
    "id": "PGqCqhvNqrkt"
   },
   "outputs": [],
   "source": [
    "from sklearn.metrics import roc_curve,auc"
   ]
  },
  {
   "cell_type": "code",
   "execution_count": 102,
   "metadata": {},
   "outputs": [],
   "source": [
    "def find_best_threshold(threshould, fpr, tpr):\n",
    "    t = threshould[np.argmax(tpr*(1-fpr))]\n",
    "    # (tpr*(1-fpr)) will be maximum if your fpr is very low and tpr is very high\n",
    "    print(\"the maximum value of tpr*(1-fpr)\", max(tpr*(1-fpr)), \"for threshold\", np.round(t,3))\n",
    "    return t\n",
    "\n",
    "def predict_with_best_t(proba, threshould):\n",
    "    predictions = []\n",
    "    for i in proba:\n",
    "        if i>=threshould:\n",
    "            predictions.append(1)\n",
    "        else:\n",
    "            predictions.append(0)\n",
    "    return predictions"
   ]
  },
  {
   "cell_type": "code",
   "execution_count": 103,
   "metadata": {},
   "outputs": [
    {
     "name": "stdout",
     "output_type": "stream",
     "text": [
      "====================================================================================================\n",
      "the maximum value of tpr*(1-fpr) 0.4403721691437788 for threshold 0.846\n",
      "Train confusion matrix\n",
      "[[ 6962  3625]\n",
      " [19599 39732]]\n",
      "Test confusion matrix\n",
      "[[ 2012  1296]\n",
      " [ 6151 12391]]\n"
     ]
    }
   ],
   "source": [
    "print(\"=\"*100)\n",
    "from sklearn.metrics import confusion_matrix\n",
    "best_t = find_best_threshold(tr_thresholds, train_fpr, train_tpr)\n",
    "print(\"Train confusion matrix\")\n",
    "print(confusion_matrix(y_train, predict_with_best_t(train_predict[:,1], best_t)))\n",
    "print(\"Test confusion matrix\")\n",
    "print(confusion_matrix(y_test, predict_with_best_t(test_predict[:,1], best_t)))"
   ]
  },
  {
   "cell_type": "markdown",
   "metadata": {
    "colab_type": "text",
    "id": "gqTfaKy-xGV5"
   },
   "source": [
    "Summary"
   ]
  },
  {
   "cell_type": "markdown",
   "metadata": {
    "colab": {},
    "colab_type": "code",
    "id": "F7Pvo7LgqrjF"
   },
   "source": [
    "# SUMMARY"
   ]
  },
  {
   "cell_type": "code",
   "execution_count": 137,
   "metadata": {
    "colab": {},
    "colab_type": "code",
    "id": "nJD3bhICqrDY"
   },
   "outputs": [
    {
     "name": "stdout",
     "output_type": "stream",
     "text": [
      "+-------------------------+----------------+------------+----------+-----------+\n",
      "|          Model          | HyperParameter | Vectorizer | Test AUC | Train AUC |\n",
      "+-------------------------+----------------+------------+----------+-----------+\n",
      "| Multinomial Naive Bayes |     0.0001     |    BOW     |   0.7    |    0.73   |\n",
      "| Multinomial Naive Bayes |     0.0001     |   TF-IDF   |  0.6844  |   0.7194  |\n",
      "+-------------------------+----------------+------------+----------+-----------+\n"
     ]
    }
   ],
   "source": [
    "from prettytable import PrettyTable\n",
    "x = PrettyTable()\n",
    "x.field_names = [\"Model\",\"HyperParameter\",\"Vectorizer\",\"Test AUC\",\"Train AUC\"]\n",
    "x.add_row([\"Multinomial Naive Bayes\", 0.0001, 'BOW',0.70,0.73])\n",
    "x.add_row([\"Multinomial Naive Bayes\",0.0001,\"TF-IDF\",0.6844,0.7194])\n",
    "print(x)"
   ]
  },
  {
   "cell_type": "code",
   "execution_count": 0,
   "metadata": {
    "colab": {},
    "colab_type": "code",
    "id": "mTBFO4lWqq-z"
   },
   "outputs": [],
   "source": []
  },
  {
   "cell_type": "code",
   "execution_count": 0,
   "metadata": {
    "colab": {},
    "colab_type": "code",
    "id": "avQOabpiqq8s"
   },
   "outputs": [],
   "source": []
  },
  {
   "cell_type": "code",
   "execution_count": 0,
   "metadata": {
    "colab": {},
    "colab_type": "code",
    "id": "HnoygeZqqq1h"
   },
   "outputs": [],
   "source": []
  },
  {
   "cell_type": "code",
   "execution_count": 0,
   "metadata": {
    "colab": {},
    "colab_type": "code",
    "id": "Nt_V3KLpqqz8"
   },
   "outputs": [],
   "source": []
  },
  {
   "cell_type": "code",
   "execution_count": 0,
   "metadata": {
    "colab": {},
    "colab_type": "code",
    "id": "YeIQ85x6qqxJ"
   },
   "outputs": [],
   "source": []
  },
  {
   "cell_type": "code",
   "execution_count": 0,
   "metadata": {
    "colab": {},
    "colab_type": "code",
    "id": "DNFOkgJRqqp9"
   },
   "outputs": [],
   "source": []
  },
  {
   "cell_type": "code",
   "execution_count": 0,
   "metadata": {
    "colab": {},
    "colab_type": "code",
    "id": "MHyw9DCtqqny"
   },
   "outputs": [],
   "source": []
  },
  {
   "cell_type": "code",
   "execution_count": 0,
   "metadata": {
    "colab": {},
    "colab_type": "code",
    "id": "8od0FtFwqqlU"
   },
   "outputs": [],
   "source": []
  },
  {
   "cell_type": "markdown",
   "metadata": {
    "colab_type": "text",
    "id": "BUun25hsnWDG"
   },
   "source": []
  }
 ],
 "metadata": {
  "colab": {
   "machine_shape": "hm",
   "name": "NaiveBayes.ipynb",
   "provenance": []
  },
  "kernelspec": {
   "display_name": "Python 3",
   "language": "python",
   "name": "python3"
  },
  "language_info": {
   "codemirror_mode": {
    "name": "ipython",
    "version": 3
   },
   "file_extension": ".py",
   "mimetype": "text/x-python",
   "name": "python",
   "nbconvert_exporter": "python",
   "pygments_lexer": "ipython3",
   "version": "3.6.5"
  }
 },
 "nbformat": 4,
 "nbformat_minor": 1
}
